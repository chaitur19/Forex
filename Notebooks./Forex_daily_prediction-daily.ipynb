{
 "cells": [
  {
   "cell_type": "code",
   "execution_count": null,
   "metadata": {},
   "outputs": [],
   "source": [
    "#!pip install tensorflow-gpu\n",
    "#!pip uninstall tf-nightly\n",
    "#!pip install tf-nightly"
   ]
  },
  {
   "cell_type": "code",
   "execution_count": 3,
   "metadata": {},
   "outputs": [],
   "source": [
    "import numpy as np"
   ]
  },
  {
   "cell_type": "code",
   "execution_count": 197,
   "metadata": {},
   "outputs": [],
   "source": [
    "#import library\n",
    "\n",
    "#from google.colab import files\n",
    "import tensorflow as tf \n",
    "import pandas as pd\n",
    "import numpy as np\n",
    "from numpy import array\n",
    "import matplotlib.pyplot as plt\n",
    "from sklearn.preprocessing import MinMaxScaler\n",
    "from tensorflow.keras.callbacks import EarlyStopping\n",
    "from tensorflow.keras.callbacks import ModelCheckpoint\n",
    "from tensorflow.keras.models import Sequential\n",
    "from tensorflow.keras.layers import Dense, Dropout\n",
    "from tensorflow.keras.layers import LSTM\n",
    "from keras.metrics import RootMeanSquaredError as rmse\n",
    "from sklearn.metrics import mean_squared_error\n",
    "import random as python_random\n",
    "import datetime"
   ]
  },
  {
   "cell_type": "code",
   "execution_count": 107,
   "metadata": {},
   "outputs": [],
   "source": [
    "from pandas_datareader import data as pdr\n",
    "import yfinance as yf\n",
    "yf.pdr_override()"
   ]
  },
  {
   "cell_type": "code",
   "execution_count": 286,
   "metadata": {},
   "outputs": [
    {
     "name": "stdout",
     "output_type": "stream",
     "text": [
      "enter the currency pair from the following list [USDINR, USDAUD, USDCAD, USDCNY, USDGBP : USDGBP\n"
     ]
    }
   ],
   "source": [
    "currency_pair=str(input(\"enter the currency pair from the following list [USDINR, USDAUD, USDCAD, USDCNY, USDGBP : \"))"
   ]
  },
  {
   "cell_type": "code",
   "execution_count": 287,
   "metadata": {},
   "outputs": [
    {
     "data": {
      "text/plain": [
       "'USDGBP'"
      ]
     },
     "execution_count": 287,
     "metadata": {},
     "output_type": "execute_result"
    }
   ],
   "source": [
    "currency_pair"
   ]
  },
  {
   "cell_type": "code",
   "execution_count": 288,
   "metadata": {},
   "outputs": [
    {
     "name": "stdout",
     "output_type": "stream",
     "text": [
      "[*********************100%***********************]  1 of 1 completed\n"
     ]
    },
    {
     "data": {
      "text/html": [
       "<div>\n",
       "<style scoped>\n",
       "    .dataframe tbody tr th:only-of-type {\n",
       "        vertical-align: middle;\n",
       "    }\n",
       "\n",
       "    .dataframe tbody tr th {\n",
       "        vertical-align: top;\n",
       "    }\n",
       "\n",
       "    .dataframe thead th {\n",
       "        text-align: right;\n",
       "    }\n",
       "</style>\n",
       "<table border=\"1\" class=\"dataframe\">\n",
       "  <thead>\n",
       "    <tr style=\"text-align: right;\">\n",
       "      <th></th>\n",
       "      <th>Open</th>\n",
       "      <th>High</th>\n",
       "      <th>Low</th>\n",
       "      <th>Close</th>\n",
       "      <th>Adj Close</th>\n",
       "    </tr>\n",
       "    <tr>\n",
       "      <th>Date</th>\n",
       "      <th></th>\n",
       "      <th></th>\n",
       "      <th></th>\n",
       "      <th></th>\n",
       "      <th></th>\n",
       "    </tr>\n",
       "  </thead>\n",
       "  <tbody>\n",
       "    <tr>\n",
       "      <th>2023-04-07</th>\n",
       "      <td>0.80379</td>\n",
       "      <td>0.80682</td>\n",
       "      <td>0.80281</td>\n",
       "      <td>0.803923</td>\n",
       "      <td>0.803923</td>\n",
       "    </tr>\n",
       "    <tr>\n",
       "      <th>2023-04-10</th>\n",
       "      <td>0.80421</td>\n",
       "      <td>0.80980</td>\n",
       "      <td>0.80368</td>\n",
       "      <td>0.804400</td>\n",
       "      <td>0.804400</td>\n",
       "    </tr>\n",
       "    <tr>\n",
       "      <th>2023-04-11</th>\n",
       "      <td>0.80677</td>\n",
       "      <td>0.80725</td>\n",
       "      <td>0.80274</td>\n",
       "      <td>0.806960</td>\n",
       "      <td>0.806960</td>\n",
       "    </tr>\n",
       "    <tr>\n",
       "      <th>2023-04-12</th>\n",
       "      <td>0.80450</td>\n",
       "      <td>0.80648</td>\n",
       "      <td>0.80106</td>\n",
       "      <td>0.804440</td>\n",
       "      <td>0.804440</td>\n",
       "    </tr>\n",
       "    <tr>\n",
       "      <th>2023-04-13</th>\n",
       "      <td>0.80088</td>\n",
       "      <td>0.80127</td>\n",
       "      <td>0.79827</td>\n",
       "      <td>0.798640</td>\n",
       "      <td>0.798640</td>\n",
       "    </tr>\n",
       "  </tbody>\n",
       "</table>\n",
       "</div>"
      ],
      "text/plain": [
       "               Open     High      Low     Close  Adj Close\n",
       "Date                                                      \n",
       "2023-04-07  0.80379  0.80682  0.80281  0.803923   0.803923\n",
       "2023-04-10  0.80421  0.80980  0.80368  0.804400   0.804400\n",
       "2023-04-11  0.80677  0.80725  0.80274  0.806960   0.806960\n",
       "2023-04-12  0.80450  0.80648  0.80106  0.804440   0.804440\n",
       "2023-04-13  0.80088  0.80127  0.79827  0.798640   0.798640"
      ]
     },
     "metadata": {},
     "output_type": "display_data"
    },
    {
     "data": {
      "text/plain": [
       "3460"
      ]
     },
     "metadata": {},
     "output_type": "display_data"
    }
   ],
   "source": [
    "# download the past 11 years of historical data\n",
    "df_pair = pdr.get_data_yahoo(currency_pair+'=X', start='2010-01-01', interval='1D')\n",
    "df_pair.drop('Volume', axis=1,inplace=True)\n",
    "display(df_pair.tail())\n",
    "display(len(df_pair)) "
   ]
  },
  {
   "cell_type": "code",
   "execution_count": 282,
   "metadata": {},
   "outputs": [],
   "source": [
    "#df_pair.to_csv(\"df_pair.csv\")"
   ]
  },
  {
   "cell_type": "code",
   "execution_count": 283,
   "metadata": {},
   "outputs": [
    {
     "data": {
      "text/html": [
       "<div>\n",
       "<style scoped>\n",
       "    .dataframe tbody tr th:only-of-type {\n",
       "        vertical-align: middle;\n",
       "    }\n",
       "\n",
       "    .dataframe tbody tr th {\n",
       "        vertical-align: top;\n",
       "    }\n",
       "\n",
       "    .dataframe thead th {\n",
       "        text-align: right;\n",
       "    }\n",
       "</style>\n",
       "<table border=\"1\" class=\"dataframe\">\n",
       "  <thead>\n",
       "    <tr style=\"text-align: right;\">\n",
       "      <th></th>\n",
       "      <th>Open</th>\n",
       "      <th>High</th>\n",
       "      <th>Low</th>\n",
       "      <th>Close</th>\n",
       "      <th>Adj Close</th>\n",
       "    </tr>\n",
       "    <tr>\n",
       "      <th>Date</th>\n",
       "      <th></th>\n",
       "      <th></th>\n",
       "      <th></th>\n",
       "      <th></th>\n",
       "      <th></th>\n",
       "    </tr>\n",
       "  </thead>\n",
       "  <tbody>\n",
       "    <tr>\n",
       "      <th>2010-01-04</th>\n",
       "      <td>6.8169</td>\n",
       "      <td>6.8169</td>\n",
       "      <td>6.8169</td>\n",
       "      <td>6.8169</td>\n",
       "      <td>6.8169</td>\n",
       "    </tr>\n",
       "    <tr>\n",
       "      <th>2010-01-05</th>\n",
       "      <td>6.8170</td>\n",
       "      <td>6.8170</td>\n",
       "      <td>6.8170</td>\n",
       "      <td>6.8170</td>\n",
       "      <td>6.8170</td>\n",
       "    </tr>\n",
       "    <tr>\n",
       "      <th>2010-01-06</th>\n",
       "      <td>6.8170</td>\n",
       "      <td>6.8183</td>\n",
       "      <td>6.8170</td>\n",
       "      <td>6.8183</td>\n",
       "      <td>6.8183</td>\n",
       "    </tr>\n",
       "    <tr>\n",
       "      <th>2010-01-07</th>\n",
       "      <td>6.8183</td>\n",
       "      <td>6.8183</td>\n",
       "      <td>6.8178</td>\n",
       "      <td>6.8178</td>\n",
       "      <td>6.8178</td>\n",
       "    </tr>\n",
       "    <tr>\n",
       "      <th>2010-01-08</th>\n",
       "      <td>6.8180</td>\n",
       "      <td>6.8180</td>\n",
       "      <td>6.8175</td>\n",
       "      <td>6.8175</td>\n",
       "      <td>6.8175</td>\n",
       "    </tr>\n",
       "    <tr>\n",
       "      <th>...</th>\n",
       "      <td>...</td>\n",
       "      <td>...</td>\n",
       "      <td>...</td>\n",
       "      <td>...</td>\n",
       "      <td>...</td>\n",
       "    </tr>\n",
       "    <tr>\n",
       "      <th>2023-04-07</th>\n",
       "      <td>6.8749</td>\n",
       "      <td>6.8780</td>\n",
       "      <td>6.8652</td>\n",
       "      <td>6.8749</td>\n",
       "      <td>6.8749</td>\n",
       "    </tr>\n",
       "    <tr>\n",
       "      <th>2023-04-10</th>\n",
       "      <td>6.8693</td>\n",
       "      <td>6.8811</td>\n",
       "      <td>6.8691</td>\n",
       "      <td>6.8693</td>\n",
       "      <td>6.8693</td>\n",
       "    </tr>\n",
       "    <tr>\n",
       "      <th>2023-04-11</th>\n",
       "      <td>6.8811</td>\n",
       "      <td>6.8909</td>\n",
       "      <td>6.8809</td>\n",
       "      <td>6.8811</td>\n",
       "      <td>6.8811</td>\n",
       "    </tr>\n",
       "    <tr>\n",
       "      <th>2023-04-12</th>\n",
       "      <td>6.8855</td>\n",
       "      <td>6.8892</td>\n",
       "      <td>6.8688</td>\n",
       "      <td>6.8855</td>\n",
       "      <td>6.8855</td>\n",
       "    </tr>\n",
       "    <tr>\n",
       "      <th>2023-04-13</th>\n",
       "      <td>6.8725</td>\n",
       "      <td>6.8776</td>\n",
       "      <td>6.8667</td>\n",
       "      <td>6.8765</td>\n",
       "      <td>6.8765</td>\n",
       "    </tr>\n",
       "  </tbody>\n",
       "</table>\n",
       "<p>3458 rows × 5 columns</p>\n",
       "</div>"
      ],
      "text/plain": [
       "              Open    High     Low   Close  Adj Close\n",
       "Date                                                 \n",
       "2010-01-04  6.8169  6.8169  6.8169  6.8169     6.8169\n",
       "2010-01-05  6.8170  6.8170  6.8170  6.8170     6.8170\n",
       "2010-01-06  6.8170  6.8183  6.8170  6.8183     6.8183\n",
       "2010-01-07  6.8183  6.8183  6.8178  6.8178     6.8178\n",
       "2010-01-08  6.8180  6.8180  6.8175  6.8175     6.8175\n",
       "...            ...     ...     ...     ...        ...\n",
       "2023-04-07  6.8749  6.8780  6.8652  6.8749     6.8749\n",
       "2023-04-10  6.8693  6.8811  6.8691  6.8693     6.8693\n",
       "2023-04-11  6.8811  6.8909  6.8809  6.8811     6.8811\n",
       "2023-04-12  6.8855  6.8892  6.8688  6.8855     6.8855\n",
       "2023-04-13  6.8725  6.8776  6.8667  6.8765     6.8765\n",
       "\n",
       "[3458 rows x 5 columns]"
      ]
     },
     "execution_count": 283,
     "metadata": {},
     "output_type": "execute_result"
    }
   ],
   "source": [
    "df_pair"
   ]
  },
  {
   "cell_type": "code",
   "execution_count": 270,
   "metadata": {},
   "outputs": [],
   "source": [
    "df_pair.reset_index(inplace=True)"
   ]
  },
  {
   "cell_type": "code",
   "execution_count": 186,
   "metadata": {},
   "outputs": [
    {
     "data": {
      "text/plain": [
       "<AxesSubplot:>"
      ]
     },
     "execution_count": 186,
     "metadata": {},
     "output_type": "execute_result"
    },
    {
     "data": {
      "image/png": "[encoded data removed]",
      "text/plain": [
       "<Figure size 1080x504 with 1 Axes>"
      ]
     },
     "metadata": {
      "needs_background": "light"
     },
     "output_type": "display_data"
    }
   ],
   "source": [
    "df_pair1 = df_pair[\"Close\"]\n",
    "\n",
    "#plotting dataset to visualize the pattern of prices over the years\n",
    "\n",
    "df_pair1.plot(kind='line',figsize=(15,7))\n"
   ]
  },
  {
   "cell_type": "code",
   "execution_count": 193,
   "metadata": {},
   "outputs": [
    {
     "data": {
      "text/plain": [
       "<AxesSubplot:>"
      ]
     },
     "execution_count": 193,
     "metadata": {},
     "output_type": "execute_result"
    },
    {
     "data": {
      "image/png": "[encoded data removed]",
      "text/plain": [
       "<Figure size 1080x504 with 1 Axes>"
      ]
     },
     "metadata": {
      "needs_background": "light"
     },
     "output_type": "display_data"
    }
   ],
   "source": [
    "df_pair2 = df_pair[\"Open\"]\n",
    "\n",
    "#plotting dataset to visualize the pattern of prices over the years\n",
    "\n",
    "df_pair2.plot(kind='line',color='yellow', figsize=(15,7))"
   ]
  },
  {
   "cell_type": "code",
   "execution_count": 191,
   "metadata": {},
   "outputs": [
    {
     "data": {
      "text/plain": [
       "<AxesSubplot:>"
      ]
     },
     "execution_count": 191,
     "metadata": {},
     "output_type": "execute_result"
    },
    {
     "data": {
      "image/png": "[encoded data removed]",
      "text/plain": [
       "<Figure size 1080x504 with 1 Axes>"
      ]
     },
     "metadata": {
      "needs_background": "light"
     },
     "output_type": "display_data"
    }
   ],
   "source": [
    "df_pair3 = df_pair[\"High\"]\n",
    "\n",
    "#plotting dataset to visualize the pattern of prices over the years\n",
    "\n",
    "df_pair3.plot(kind='line', color='green', figsize=(15,7))"
   ]
  },
  {
   "cell_type": "code",
   "execution_count": 192,
   "metadata": {},
   "outputs": [
    {
     "data": {
      "text/plain": [
       "<AxesSubplot:>"
      ]
     },
     "execution_count": 192,
     "metadata": {},
     "output_type": "execute_result"
    },
    {
     "data": {
      "image/png": "[encoded data removed]",
      "text/plain": [
       "<Figure size 1080x504 with 1 Axes>"
      ]
     },
     "metadata": {
      "needs_background": "light"
     },
     "output_type": "display_data"
    }
   ],
   "source": [
    "df_pair4 = df_pair[\"Low\"]\n",
    "\n",
    "#plotting dataset to visualize the pattern of prices over the years\n",
    "\n",
    "df_pair4.plot(kind='line', color='black', figsize=(15,7))"
   ]
  },
  {
   "cell_type": "code",
   "execution_count": 153,
   "metadata": {},
   "outputs": [],
   "source": [
    "arr_close = df_pair['Close'].to_numpy()\n",
    "arr_date = df_pair['Date'].to_numpy()\n",
    "arr_shiftclose = df_pair['Adj Close'].to_numpy()\n",
    "#df_USDGBP"
   ]
  },
  {
   "cell_type": "code",
   "execution_count": 212,
   "metadata": {},
   "outputs": [
    {
     "data": {
      "text/plain": [
       "array([1.05120003, 1.04100001, 1.0395    , ..., 1.35034001, 1.34625006,\n",
       "       1.34309995])"
      ]
     },
     "execution_count": 212,
     "metadata": {},
     "output_type": "execute_result"
    }
   ],
   "source": [
    "arr_close"
   ]
  },
  {
   "cell_type": "code",
   "execution_count": 214,
   "metadata": {},
   "outputs": [
    {
     "data": {
      "text/plain": [
       "1.3430999517440796"
      ]
     },
     "execution_count": 214,
     "metadata": {},
     "output_type": "execute_result"
    }
   ],
   "source": [
    "arr_close[-1]\n",
    "#some_list[-1]"
   ]
  },
  {
   "cell_type": "code",
   "execution_count": 154,
   "metadata": {},
   "outputs": [
    {
     "name": "stdout",
     "output_type": "stream",
     "text": [
      "[[0.20987181]\n",
      " [0.19005054]\n",
      " [0.18713564]\n",
      " ...\n",
      " [0.79117759]\n",
      " [0.78322976]\n",
      " [0.7771083 ]]\n",
      "[[0.20987181]\n",
      " [0.19005054]\n",
      " [0.18713564]\n",
      " ...\n",
      " [0.79117759]\n",
      " [0.78322976]\n",
      " [0.7771083 ]]\n"
     ]
    }
   ],
   "source": [
    "#normalize data\n",
    "scaler = MinMaxScaler()\n",
    "scaled_dataX = scaler.fit_transform(arr_close.reshape(-1,1))\n",
    "scaled_dataY = scaler.fit_transform(arr_shiftclose.reshape(-1,1))\n",
    "print(scaled_dataX)\n",
    "print(scaled_dataY)"
   ]
  },
  {
   "cell_type": "code",
   "execution_count": 155,
   "metadata": {},
   "outputs": [
    {
     "name": "stdout",
     "output_type": "stream",
     "text": [
      "[[0.20987181]\n",
      " [0.19005054]\n",
      " [0.18713564]\n",
      " ...\n",
      " [0.79117759]\n",
      " [0.78322976]\n",
      " [0.7771083 ]]\n"
     ]
    }
   ],
   "source": [
    "print(scaled_dataY)"
   ]
  },
  {
   "cell_type": "code",
   "execution_count": 156,
   "metadata": {},
   "outputs": [],
   "source": [
    "# #split train and test data   ---- main code\n",
    "\n",
    "# train_x = scaled_dataX[0:2510,:]\n",
    "# test_x = scaled_dataX[2510:,:]\n",
    "\n",
    "# train_y = scaled_dataY[0:2510,:]\n",
    "# test_y = scaled_dataY[2510:,:]\n",
    "\n",
    "# #split train and test date data\n",
    "\n",
    "# train_date = arr_date[0:2510]\n",
    "# test_date = arr_date[2510:]\n",
    "# print(test_date[len(test_date)-1])"
   ]
  },
  {
   "cell_type": "code",
   "execution_count": 157,
   "metadata": {},
   "outputs": [
    {
     "name": "stdout",
     "output_type": "stream",
     "text": [
      "2023-04-13T00:00:00.000000000\n"
     ]
    }
   ],
   "source": [
    "\n",
    "#split train and test data\n",
    "\n",
    "train_x = scaled_dataX[0:int(len(scaled_dataX)*0.8)]\n",
    "test_x = scaled_dataX[-int(len(scaled_dataX)*0.2):,:]\n",
    "\n",
    "train_y = scaled_dataY[0:int(len(scaled_dataX)*0.8)]\n",
    "test_y = scaled_dataY[-int(len(scaled_dataX)*0.2):,:]\n",
    "\n",
    "#split train and test date data\n",
    "\n",
    "train_date = arr_date[0:int(len(scaled_dataX)*0.8)]\n",
    "test_date = arr_date[-int(len(scaled_dataX)*0.2):]\n",
    "print(test_date[len(test_date)-1])\n"
   ]
  },
  {
   "cell_type": "code",
   "execution_count": 158,
   "metadata": {},
   "outputs": [],
   "source": [
    "#reshape input to be [samples, time steps, features]\n",
    "\n",
    "trainX = np.reshape(train_x, (train_x.shape[0], train_x.shape[1], 1))\n",
    "testX = np.reshape(test_x, (test_x.shape[0], test_x.shape[1], 1))\n",
    "\n",
    "#print(trainX)\n",
    "#print(testX)"
   ]
  },
  {
   "cell_type": "code",
   "execution_count": 209,
   "metadata": {},
   "outputs": [
    {
     "data": {
      "text/plain": [
       "array([[[0.20987181]],\n",
       "\n",
       "       [[0.19005054]],\n",
       "\n",
       "       [[0.18713564]],\n",
       "\n",
       "       ...,\n",
       "\n",
       "       [[0.73602789]],\n",
       "\n",
       "       [[0.74240186]],\n",
       "\n",
       "       [[0.73645552]]])"
      ]
     },
     "execution_count": 209,
     "metadata": {},
     "output_type": "execute_result"
    }
   ],
   "source": [
    "trainX"
   ]
  },
  {
   "cell_type": "code",
   "execution_count": 159,
   "metadata": {},
   "outputs": [
    {
     "data": {
      "text/plain": [
       "2767"
      ]
     },
     "execution_count": 159,
     "metadata": {},
     "output_type": "execute_result"
    }
   ],
   "source": [
    "len(trainX)"
   ]
  },
  {
   "cell_type": "code",
   "execution_count": 160,
   "metadata": {},
   "outputs": [
    {
     "data": {
      "text/plain": [
       "691"
      ]
     },
     "execution_count": 160,
     "metadata": {},
     "output_type": "execute_result"
    }
   ],
   "source": [
    "len(testX)"
   ]
  },
  {
   "cell_type": "code",
   "execution_count": 161,
   "metadata": {},
   "outputs": [],
   "source": [
    "#to not get random result\n",
    "\n",
    "# The below is necessary for starting Numpy generated random numbers\n",
    "# in a well-defined initial state.\n",
    "np.random.seed(123)\n",
    "\n",
    "# The below is necessary for starting core Python generated random numbers\n",
    "# in a well-defined state.\n",
    "python_random.seed(123)\n",
    "\n",
    "# The below set_seed() will make random number generation\n",
    "# in the TensorFlow backend have a well-defined initial state.\n",
    "# For further details, see:\n",
    "# https://www.tensorflow.org/api_docs/python/tf/random/set_seed\n",
    "tf.random.set_seed(1234)"
   ]
  },
  {
   "cell_type": "code",
   "execution_count": 198,
   "metadata": {},
   "outputs": [
    {
     "name": "stdout",
     "output_type": "stream",
     "text": [
      "Model: \"sequential_6\"\n",
      "_________________________________________________________________\n",
      " Layer (type)                Output Shape              Param #   \n",
      "=================================================================\n",
      " lstm_15 (LSTM)              (None, 1, 10)             480       \n",
      "                                                                 \n",
      " lstm_16 (LSTM)              (None, 1, 10)             840       \n",
      "                                                                 \n",
      " lstm_17 (LSTM)              (None, 10)                840       \n",
      "                                                                 \n",
      " dropout_6 (Dropout)         (None, 10)                0         \n",
      "                                                                 \n",
      " dense_6 (Dense)             (None, 1)                 11        \n",
      "                                                                 \n",
      "=================================================================\n",
      "Total params: 2,171\n",
      "Trainable params: 2,171\n",
      "Non-trainable params: 0\n",
      "_________________________________________________________________\n"
     ]
    }
   ],
   "source": [
    "#Create LSTM\n",
    "\n",
    "t_steps = 1\n",
    "n_feature = 1\n",
    "model = Sequential()\n",
    "model.add(LSTM(10, input_shape=(t_steps, n_feature), return_sequences=True))\n",
    "model.add(LSTM(10, input_shape=(t_steps, n_feature), return_sequences=True))\n",
    "model.add(LSTM(10, input_shape=(t_steps, n_feature), return_sequences=False))\n",
    "model.add(Dropout(0.1))\n",
    "model.add(Dense(1)) #output layer\n",
    "model.compile(loss='mean_squared_error', optimizer='adam', metrics = [rmse()])\n",
    "\n",
    "earlyStop = EarlyStopping(monitor='val_loss', mode='min', verbose=1, patience=30)\n",
    "#mCheckpoint = ModelCheckpoint('best_model.h5', monitor='val_loss', mode='min', verbose=1, save_best_only=True)\n",
    "\n",
    "model.summary()"
   ]
  },
  {
   "cell_type": "code",
   "execution_count": 199,
   "metadata": {},
   "outputs": [
    {
     "name": "stdout",
     "output_type": "stream",
     "text": [
      "Epoch 1/100\n",
      "58/58 [==============================] - 9s 35ms/step - loss: 0.1165 - root_mean_squared_error: 0.3413 - val_loss: 0.3117 - val_root_mean_squared_error: 0.5583\n",
      "Epoch 2/100\n",
      "58/58 [==============================] - 0s 7ms/step - loss: 0.0716 - root_mean_squared_error: 0.2676 - val_loss: 0.1888 - val_root_mean_squared_error: 0.4345\n",
      "Epoch 3/100\n",
      "58/58 [==============================] - 0s 8ms/step - loss: 0.0667 - root_mean_squared_error: 0.2583 - val_loss: 0.1368 - val_root_mean_squared_error: 0.3698\n",
      "Epoch 4/100\n",
      "58/58 [==============================] - 0s 8ms/step - loss: 0.0677 - root_mean_squared_error: 0.2601 - val_loss: 0.1150 - val_root_mean_squared_error: 0.3392\n",
      "Epoch 5/100\n",
      "58/58 [==============================] - 0s 8ms/step - loss: 0.0638 - root_mean_squared_error: 0.2527 - val_loss: 0.0955 - val_root_mean_squared_error: 0.3090\n",
      "Epoch 6/100\n",
      "58/58 [==============================] - 0s 8ms/step - loss: 0.0573 - root_mean_squared_error: 0.2394 - val_loss: 0.0712 - val_root_mean_squared_error: 0.2669\n",
      "Epoch 7/100\n",
      "58/58 [==============================] - 0s 8ms/step - loss: 0.0493 - root_mean_squared_error: 0.2219 - val_loss: 0.0440 - val_root_mean_squared_error: 0.2099\n",
      "Epoch 8/100\n",
      "58/58 [==============================] - 0s 8ms/step - loss: 0.0389 - root_mean_squared_error: 0.1971 - val_loss: 0.0189 - val_root_mean_squared_error: 0.1373\n",
      "Epoch 9/100\n",
      "58/58 [==============================] - 1s 9ms/step - loss: 0.0264 - root_mean_squared_error: 0.1624 - val_loss: 0.0035 - val_root_mean_squared_error: 0.0592\n",
      "Epoch 10/100\n",
      "58/58 [==============================] - 0s 8ms/step - loss: 0.0153 - root_mean_squared_error: 0.1237 - val_loss: 6.7997e-05 - val_root_mean_squared_error: 0.0082\n",
      "Epoch 11/100\n",
      "58/58 [==============================] - 1s 8ms/step - loss: 0.0076 - root_mean_squared_error: 0.0870 - val_loss: 1.8350e-04 - val_root_mean_squared_error: 0.0135\n",
      "Epoch 12/100\n",
      "58/58 [==============================] - 1s 9ms/step - loss: 0.0042 - root_mean_squared_error: 0.0645 - val_loss: 3.1285e-04 - val_root_mean_squared_error: 0.0177\n",
      "Epoch 13/100\n",
      "58/58 [==============================] - 1s 9ms/step - loss: 0.0033 - root_mean_squared_error: 0.0577 - val_loss: 3.7994e-04 - val_root_mean_squared_error: 0.0195\n",
      "Epoch 14/100\n",
      "58/58 [==============================] - 1s 9ms/step - loss: 0.0030 - root_mean_squared_error: 0.0550 - val_loss: 4.0101e-04 - val_root_mean_squared_error: 0.0200\n",
      "Epoch 15/100\n",
      "58/58 [==============================] - 0s 8ms/step - loss: 0.0029 - root_mean_squared_error: 0.0537 - val_loss: 3.6066e-04 - val_root_mean_squared_error: 0.0190\n",
      "Epoch 16/100\n",
      "58/58 [==============================] - 1s 9ms/step - loss: 0.0031 - root_mean_squared_error: 0.0556 - val_loss: 3.3785e-04 - val_root_mean_squared_error: 0.0184\n",
      "Epoch 17/100\n",
      "58/58 [==============================] - 1s 10ms/step - loss: 0.0032 - root_mean_squared_error: 0.0567 - val_loss: 2.9638e-04 - val_root_mean_squared_error: 0.0172\n",
      "Epoch 18/100\n",
      "58/58 [==============================] - 0s 8ms/step - loss: 0.0031 - root_mean_squared_error: 0.0558 - val_loss: 2.9781e-04 - val_root_mean_squared_error: 0.0173\n",
      "Epoch 19/100\n",
      "58/58 [==============================] - 0s 8ms/step - loss: 0.0032 - root_mean_squared_error: 0.0568 - val_loss: 2.3692e-04 - val_root_mean_squared_error: 0.0154\n",
      "Epoch 20/100\n",
      "58/58 [==============================] - 0s 8ms/step - loss: 0.0030 - root_mean_squared_error: 0.0547 - val_loss: 2.2408e-04 - val_root_mean_squared_error: 0.0150\n",
      "Epoch 21/100\n",
      "58/58 [==============================] - 0s 8ms/step - loss: 0.0029 - root_mean_squared_error: 0.0538 - val_loss: 2.3350e-04 - val_root_mean_squared_error: 0.0153\n",
      "Epoch 22/100\n",
      "58/58 [==============================] - 0s 8ms/step - loss: 0.0026 - root_mean_squared_error: 0.0513 - val_loss: 5.1653e-04 - val_root_mean_squared_error: 0.0227\n",
      "Epoch 23/100\n",
      "58/58 [==============================] - 0s 8ms/step - loss: 0.0028 - root_mean_squared_error: 0.0529 - val_loss: 1.5399e-04 - val_root_mean_squared_error: 0.0124\n",
      "Epoch 24/100\n",
      "58/58 [==============================] - 0s 8ms/step - loss: 0.0031 - root_mean_squared_error: 0.0554 - val_loss: 2.0858e-04 - val_root_mean_squared_error: 0.0144\n",
      "Epoch 25/100\n",
      "58/58 [==============================] - 0s 8ms/step - loss: 0.0029 - root_mean_squared_error: 0.0535 - val_loss: 1.2934e-04 - val_root_mean_squared_error: 0.0114\n",
      "Epoch 26/100\n",
      "58/58 [==============================] - 0s 8ms/step - loss: 0.0028 - root_mean_squared_error: 0.0530 - val_loss: 1.4091e-04 - val_root_mean_squared_error: 0.0119\n",
      "Epoch 27/100\n",
      "58/58 [==============================] - 0s 8ms/step - loss: 0.0028 - root_mean_squared_error: 0.0527 - val_loss: 1.4642e-04 - val_root_mean_squared_error: 0.0121\n",
      "Epoch 28/100\n",
      "58/58 [==============================] - 0s 8ms/step - loss: 0.0027 - root_mean_squared_error: 0.0516 - val_loss: 7.4673e-05 - val_root_mean_squared_error: 0.0086\n",
      "Epoch 29/100\n",
      "58/58 [==============================] - 0s 8ms/step - loss: 0.0026 - root_mean_squared_error: 0.0506 - val_loss: 6.4524e-05 - val_root_mean_squared_error: 0.0080\n",
      "Epoch 30/100\n",
      "58/58 [==============================] - 0s 8ms/step - loss: 0.0025 - root_mean_squared_error: 0.0501 - val_loss: 4.3779e-05 - val_root_mean_squared_error: 0.0066\n",
      "Epoch 31/100\n",
      "58/58 [==============================] - 0s 8ms/step - loss: 0.0024 - root_mean_squared_error: 0.0488 - val_loss: 9.2936e-05 - val_root_mean_squared_error: 0.0096\n",
      "Epoch 32/100\n",
      "58/58 [==============================] - 0s 8ms/step - loss: 0.0025 - root_mean_squared_error: 0.0504 - val_loss: 1.3046e-04 - val_root_mean_squared_error: 0.0114\n",
      "Epoch 33/100\n",
      "58/58 [==============================] - 0s 8ms/step - loss: 0.0026 - root_mean_squared_error: 0.0512 - val_loss: 2.8311e-05 - val_root_mean_squared_error: 0.0053\n",
      "Epoch 34/100\n",
      "58/58 [==============================] - 0s 8ms/step - loss: 0.0024 - root_mean_squared_error: 0.0489 - val_loss: 3.2142e-05 - val_root_mean_squared_error: 0.0057\n",
      "Epoch 35/100\n",
      "58/58 [==============================] - 0s 8ms/step - loss: 0.0022 - root_mean_squared_error: 0.0471 - val_loss: 3.0012e-05 - val_root_mean_squared_error: 0.0055\n",
      "Epoch 36/100\n",
      "58/58 [==============================] - 1s 10ms/step - loss: 0.0021 - root_mean_squared_error: 0.0460 - val_loss: 1.4118e-04 - val_root_mean_squared_error: 0.0119\n",
      "Epoch 37/100\n",
      "58/58 [==============================] - 0s 8ms/step - loss: 0.0022 - root_mean_squared_error: 0.0466 - val_loss: 5.0442e-06 - val_root_mean_squared_error: 0.0022\n",
      "Epoch 38/100\n",
      "58/58 [==============================] - 0s 8ms/step - loss: 0.0022 - root_mean_squared_error: 0.0472 - val_loss: 4.3212e-05 - val_root_mean_squared_error: 0.0066\n",
      "Epoch 39/100\n",
      "58/58 [==============================] - 0s 8ms/step - loss: 0.0021 - root_mean_squared_error: 0.0462 - val_loss: 5.8886e-06 - val_root_mean_squared_error: 0.0024\n",
      "Epoch 40/100\n",
      "58/58 [==============================] - 0s 7ms/step - loss: 0.0022 - root_mean_squared_error: 0.0470 - val_loss: 6.6678e-06 - val_root_mean_squared_error: 0.0026\n",
      "Epoch 41/100\n",
      "58/58 [==============================] - 0s 7ms/step - loss: 0.0022 - root_mean_squared_error: 0.0469 - val_loss: 7.7681e-06 - val_root_mean_squared_error: 0.0028\n",
      "Epoch 42/100\n",
      "58/58 [==============================] - 0s 7ms/step - loss: 0.0020 - root_mean_squared_error: 0.0446 - val_loss: 1.4177e-04 - val_root_mean_squared_error: 0.0119\n",
      "Epoch 43/100\n",
      "58/58 [==============================] - 0s 8ms/step - loss: 0.0018 - root_mean_squared_error: 0.0420 - val_loss: 2.2309e-05 - val_root_mean_squared_error: 0.0047\n",
      "Epoch 44/100\n",
      "58/58 [==============================] - 0s 8ms/step - loss: 0.0023 - root_mean_squared_error: 0.0475 - val_loss: 2.2018e-04 - val_root_mean_squared_error: 0.0148\n",
      "Epoch 45/100\n",
      "58/58 [==============================] - 0s 8ms/step - loss: 0.0018 - root_mean_squared_error: 0.0427 - val_loss: 1.4461e-04 - val_root_mean_squared_error: 0.0120\n",
      "Epoch 46/100\n",
      "58/58 [==============================] - 0s 8ms/step - loss: 0.0019 - root_mean_squared_error: 0.0438 - val_loss: 1.0041e-04 - val_root_mean_squared_error: 0.0100\n",
      "Epoch 47/100\n",
      "58/58 [==============================] - 0s 7ms/step - loss: 0.0020 - root_mean_squared_error: 0.0446 - val_loss: 8.8370e-05 - val_root_mean_squared_error: 0.0094\n"
     ]
    },
    {
     "name": "stdout",
     "output_type": "stream",
     "text": [
      "Epoch 48/100\n",
      "58/58 [==============================] - 0s 7ms/step - loss: 0.0021 - root_mean_squared_error: 0.0457 - val_loss: 9.6899e-05 - val_root_mean_squared_error: 0.0098\n",
      "Epoch 49/100\n",
      "58/58 [==============================] - 0s 7ms/step - loss: 0.0020 - root_mean_squared_error: 0.0447 - val_loss: 8.2642e-05 - val_root_mean_squared_error: 0.0091\n",
      "Epoch 50/100\n",
      "58/58 [==============================] - 0s 7ms/step - loss: 0.0020 - root_mean_squared_error: 0.0447 - val_loss: 1.7212e-04 - val_root_mean_squared_error: 0.0131\n",
      "Epoch 51/100\n",
      "58/58 [==============================] - 0s 7ms/step - loss: 0.0020 - root_mean_squared_error: 0.0442 - val_loss: 1.9319e-04 - val_root_mean_squared_error: 0.0139\n",
      "Epoch 52/100\n",
      "58/58 [==============================] - 0s 7ms/step - loss: 0.0020 - root_mean_squared_error: 0.0450 - val_loss: 2.1951e-04 - val_root_mean_squared_error: 0.0148\n",
      "Epoch 53/100\n",
      "58/58 [==============================] - 1s 9ms/step - loss: 0.0018 - root_mean_squared_error: 0.0419 - val_loss: 1.4596e-04 - val_root_mean_squared_error: 0.0121\n",
      "Epoch 54/100\n",
      "58/58 [==============================] - 0s 8ms/step - loss: 0.0018 - root_mean_squared_error: 0.0428 - val_loss: 2.2206e-04 - val_root_mean_squared_error: 0.0149\n",
      "Epoch 55/100\n",
      "58/58 [==============================] - 1s 10ms/step - loss: 0.0017 - root_mean_squared_error: 0.0416 - val_loss: 1.8667e-04 - val_root_mean_squared_error: 0.0137\n",
      "Epoch 56/100\n",
      "58/58 [==============================] - 1s 10ms/step - loss: 0.0018 - root_mean_squared_error: 0.0421 - val_loss: 1.6634e-04 - val_root_mean_squared_error: 0.0129\n",
      "Epoch 57/100\n",
      "58/58 [==============================] - 0s 8ms/step - loss: 0.0014 - root_mean_squared_error: 0.0372 - val_loss: 1.2802e-04 - val_root_mean_squared_error: 0.0113\n",
      "Epoch 58/100\n",
      "58/58 [==============================] - 0s 8ms/step - loss: 0.0016 - root_mean_squared_error: 0.0399 - val_loss: 1.3112e-04 - val_root_mean_squared_error: 0.0115\n",
      "Epoch 59/100\n",
      "58/58 [==============================] - 0s 7ms/step - loss: 0.0015 - root_mean_squared_error: 0.0385 - val_loss: 2.1578e-04 - val_root_mean_squared_error: 0.0147\n",
      "Epoch 60/100\n",
      "58/58 [==============================] - 1s 9ms/step - loss: 0.0015 - root_mean_squared_error: 0.0394 - val_loss: 1.9405e-04 - val_root_mean_squared_error: 0.0139\n",
      "Epoch 61/100\n",
      "58/58 [==============================] - 0s 7ms/step - loss: 0.0015 - root_mean_squared_error: 0.0390 - val_loss: 2.4499e-04 - val_root_mean_squared_error: 0.0157\n",
      "Epoch 62/100\n",
      "58/58 [==============================] - 0s 7ms/step - loss: 0.0014 - root_mean_squared_error: 0.0380 - val_loss: 1.6776e-04 - val_root_mean_squared_error: 0.0130\n",
      "Epoch 63/100\n",
      "58/58 [==============================] - 0s 8ms/step - loss: 0.0016 - root_mean_squared_error: 0.0406 - val_loss: 1.3838e-04 - val_root_mean_squared_error: 0.0118\n",
      "Epoch 64/100\n",
      "58/58 [==============================] - 0s 7ms/step - loss: 0.0015 - root_mean_squared_error: 0.0382 - val_loss: 1.4931e-04 - val_root_mean_squared_error: 0.0122\n",
      "Epoch 65/100\n",
      "58/58 [==============================] - 0s 8ms/step - loss: 0.0015 - root_mean_squared_error: 0.0394 - val_loss: 3.3584e-04 - val_root_mean_squared_error: 0.0183\n",
      "Epoch 66/100\n",
      "58/58 [==============================] - 0s 8ms/step - loss: 0.0014 - root_mean_squared_error: 0.0378 - val_loss: 1.6143e-04 - val_root_mean_squared_error: 0.0127\n",
      "Epoch 67/100\n",
      "58/58 [==============================] - 0s 8ms/step - loss: 0.0013 - root_mean_squared_error: 0.0367 - val_loss: 1.3773e-04 - val_root_mean_squared_error: 0.0117\n",
      "Epoch 67: early stopping\n"
     ]
    }
   ],
   "source": [
    "\n",
    "#train model\n",
    "\n",
    "history = model.fit(trainX, train_y, epochs=100, verbose=1, validation_split=0.33, callbacks=[earlyStop], shuffle=False)\n",
    "\n",
    "#history = model.fit(trainX, train_y, epochs=100, verbose=1, validation_split=0.33, shuffle=False)"
   ]
  },
  {
   "cell_type": "code",
   "execution_count": 200,
   "metadata": {},
   "outputs": [
    {
     "name": "stdout",
     "output_type": "stream",
     "text": [
      "22/22 [==============================] - 2s 3ms/step\n",
      "[[0.7358404 ]\n",
      " [0.7291835 ]\n",
      " [0.73044175]\n",
      " [0.73673975]\n",
      " [0.7276039 ]\n",
      " [0.72338897]\n",
      " [0.72061336]\n",
      " [0.71358603]\n",
      " [0.70581704]\n",
      " [0.70891154]\n",
      " [0.7074686 ]\n",
      " [0.7236762 ]\n",
      " [0.7127999 ]\n",
      " [0.7162296 ]\n",
      " [0.7403108 ]\n",
      " [0.7258361 ]\n",
      " [0.7320499 ]\n",
      " [0.7306597 ]\n",
      " [0.7299051 ]\n",
      " [0.73260194]\n",
      " [0.7307101 ]\n",
      " [0.7254483 ]\n",
      " [0.7333375 ]\n",
      " [0.75034493]\n",
      " [0.7498534 ]\n",
      " [0.7639051 ]\n",
      " [0.75871927]\n",
      " [0.76314783]\n",
      " [0.759594  ]\n",
      " [0.7639532 ]\n",
      " [0.7512124 ]\n",
      " [0.7477204 ]\n",
      " [0.7488696 ]\n",
      " [0.74327266]\n",
      " [0.75382566]\n",
      " [0.74340475]\n",
      " [0.7324849 ]\n",
      " [0.72203606]\n",
      " [0.71906954]\n",
      " [0.724031  ]\n",
      " [0.72517854]\n",
      " [0.7379871 ]\n",
      " [0.73034114]\n",
      " [0.7320832 ]\n",
      " [0.72042686]\n",
      " [0.72595406]\n",
      " [0.72316945]\n",
      " [0.7249424 ]\n",
      " [0.73482347]\n",
      " [0.73243463]\n",
      " [0.7520627 ]\n",
      " [0.75284666]\n",
      " [0.761389  ]\n",
      " [0.73722214]\n",
      " [0.717302  ]\n",
      " [0.72142655]\n",
      " [0.7138935 ]\n",
      " [0.7036274 ]\n",
      " [0.7010004 ]\n",
      " [0.7051278 ]\n",
      " [0.7098037 ]\n",
      " [0.7230509 ]\n",
      " [0.72095233]\n",
      " [0.7127316 ]\n",
      " [0.7177953 ]\n",
      " [0.71425176]\n",
      " [0.7145079 ]\n",
      " [0.7139105 ]\n",
      " [0.71257776]\n",
      " [0.699147  ]\n",
      " [0.7001174 ]\n",
      " [0.70329934]\n",
      " [0.69675136]\n",
      " [0.69838387]\n",
      " [0.6880937 ]\n",
      " [0.6853205 ]\n",
      " [0.67603517]\n",
      " [0.66086173]\n",
      " [0.6648802 ]\n",
      " [0.6674203 ]\n",
      " [0.66888446]\n",
      " [0.65357924]\n",
      " [0.65563875]\n",
      " [0.6573882 ]\n",
      " [0.64639753]\n",
      " [0.6549888 ]\n",
      " [0.6520954 ]\n",
      " [0.6664192 ]\n",
      " [0.6740121 ]\n",
      " [0.6811115 ]\n",
      " [0.67264336]\n",
      " [0.6731235 ]\n",
      " [0.67159367]\n",
      " [0.67166495]\n",
      " [0.6684741 ]\n",
      " [0.65565664]\n",
      " [0.58127797]\n",
      " [0.65048313]\n",
      " [0.6611133 ]\n",
      " [0.64186025]\n",
      " [0.6401615 ]\n",
      " [0.6435204 ]\n",
      " [0.65205926]\n",
      " [0.65938735]\n",
      " [0.6478696 ]\n",
      " [0.64612454]\n",
      " [0.636922  ]\n",
      " [0.658181  ]\n",
      " [0.6551691 ]\n",
      " [0.6505918 ]\n",
      " [0.6329392 ]\n",
      " [0.6367387 ]\n",
      " [0.6506281 ]\n",
      " [0.6532716 ]\n",
      " [0.64536023]\n",
      " [0.6673846 ]\n",
      " [0.6700438 ]\n",
      " [0.66491616]\n",
      " [0.67273235]\n",
      " [0.6618497 ]\n",
      " [0.6616522 ]\n",
      " [0.6686169 ]\n",
      " [0.6570459 ]\n",
      " [0.65330774]\n",
      " [0.6459426 ]\n",
      " [0.64574254]\n",
      " [0.64657927]\n",
      " [0.6442675 ]\n",
      " [0.6347028 ]\n",
      " [0.64810604]\n",
      " [0.6464519 ]\n",
      " [0.64299154]\n",
      " [0.627912  ]\n",
      " [0.6298109 ]\n",
      " [0.626786  ]\n",
      " [0.6114502 ]\n",
      " [0.62997675]\n",
      " [0.64574254]\n",
      " [0.63578534]\n",
      " [0.6347028 ]\n",
      " [0.64113   ]\n",
      " [0.6424442 ]\n",
      " [0.63402337]\n",
      " [0.6387896 ]\n",
      " [0.6360787 ]\n",
      " [0.6318544 ]\n",
      " [0.6154391 ]\n",
      " [0.603834  ]\n",
      " [0.6049967 ]\n",
      " [0.59883577]\n",
      " [0.58888733]\n",
      " [0.60788065]\n",
      " [0.61385596]\n",
      " [0.61346453]\n",
      " [0.6263241 ]\n",
      " [0.6238469 ]\n",
      " [0.6284837 ]\n",
      " [0.625234  ]\n",
      " [0.6263796 ]\n",
      " [0.6319831 ]\n",
      " [0.6215504 ]\n",
      " [0.6181544 ]\n",
      " [0.62149477]\n",
      " [0.6133527 ]\n",
      " [0.62286586]\n",
      " [0.63049245]\n",
      " [0.62116104]\n",
      " [0.6153275 ]\n",
      " [0.62056774]\n",
      " [0.6164998 ]\n",
      " [0.61275625]\n",
      " [0.6177268 ]\n",
      " [0.612868  ]\n",
      " [0.6136323 ]\n",
      " [0.63027143]\n",
      " [0.6102738 ]\n",
      " [0.6101243 ]\n",
      " [0.60726315]\n",
      " [0.5900229 ]\n",
      " [0.591952  ]\n",
      " [0.57231754]\n",
      " [0.567208  ]\n",
      " [0.56776375]\n",
      " [0.5679554 ]\n",
      " [0.5718015 ]\n",
      " [0.5654634 ]\n",
      " [0.5436583 ]\n",
      " [0.5358958 ]\n",
      " [0.53194714]\n",
      " [0.53247267]\n",
      " [0.5371783 ]\n",
      " [0.5464273 ]\n",
      " [0.53531265]\n",
      " [0.5256714 ]\n",
      " [0.52785593]\n",
      " [0.5394503 ]\n",
      " [0.5258664 ]\n",
      " [0.52674425]\n",
      " [0.5233875 ]\n",
      " [0.52615917]\n",
      " [0.53902316]\n",
      " [0.5273685 ]\n",
      " [0.52884996]\n",
      " [0.5255151 ]\n",
      " [0.52713436]\n",
      " [0.5210821 ]\n",
      " [0.53453493]\n",
      " [0.52846014]\n",
      " [0.5305841 ]\n",
      " [0.53539056]\n",
      " [0.5360125 ]\n",
      " [0.5318109 ]\n",
      " [0.5444333 ]\n",
      " [0.5411383 ]\n",
      " [0.5497727 ]\n",
      " [0.56755286]\n",
      " [0.5803838 ]\n",
      " [0.6001903 ]\n",
      " [0.5850963 ]\n",
      " [0.5736738 ]\n",
      " [0.5723939 ]\n",
      " [0.5760213 ]\n",
      " [0.5702141 ]\n",
      " [0.5782516 ]\n",
      " [0.5900609 ]\n",
      " [0.5893985 ]\n",
      " [0.5984595 ]\n",
      " [0.5774895 ]\n",
      " [0.5793751 ]\n",
      " [0.60173154]\n",
      " [0.6061584 ]\n",
      " [0.6148061 ]\n",
      " [0.59964484]\n",
      " [0.6011865 ]\n",
      " [0.61350185]\n",
      " [0.6124763 ]\n",
      " [0.62612116]\n",
      " [0.6312656 ]\n",
      " [0.6548081 ]\n",
      " [0.6419333 ]\n",
      " [0.6224028 ]\n",
      " [0.62149477]\n",
      " [0.62214327]\n",
      " [0.61703897]\n",
      " [0.62652737]\n",
      " [0.6132597 ]\n",
      " [0.6000775 ]\n",
      " [0.6033461 ]\n",
      " [0.609788  ]\n",
      " [0.61579275]\n",
      " [0.6179685 ]\n",
      " [0.6098255 ]\n",
      " [0.62277305]\n",
      " [0.6233101 ]\n",
      " [0.613129  ]\n",
      " [0.6108526 ]\n",
      " [0.6133154 ]\n",
      " [0.6125697 ]\n",
      " [0.6225324 ]\n",
      " [0.6330313 ]\n",
      " [0.6397409 ]\n",
      " [0.67011523]\n",
      " [0.6691701 ]\n",
      " [0.63752645]\n",
      " [0.6274137 ]\n",
      " [0.6260656 ]\n",
      " [0.64372075]\n",
      " [0.63017935]\n",
      " [0.62979245]\n",
      " [0.6311184 ]\n",
      " [0.6321486 ]\n",
      " [0.6192315 ]\n",
      " [0.61523426]\n",
      " [0.6159789 ]\n",
      " [0.63668364]\n",
      " [0.6453785 ]\n",
      " [0.63964957]\n",
      " [0.6427362 ]\n",
      " [0.63697684]\n",
      " [0.64465016]\n",
      " [0.6314863 ]\n",
      " [0.64310086]\n",
      " [0.658055  ]\n",
      " [0.664952  ]\n",
      " [0.6682421 ]\n",
      " [0.66199344]\n",
      " [0.63953966]\n",
      " [0.63723356]\n",
      " [0.632976  ]\n",
      " [0.6422799 ]\n",
      " [0.6562162 ]\n",
      " [0.6435567 ]\n",
      " [0.6327555 ]\n",
      " [0.62626886]\n",
      " [0.62495667]\n",
      " [0.6256037 ]\n",
      " [0.61833996]\n",
      " [0.60660785]\n",
      " [0.6059148 ]\n",
      " [0.60510904]\n",
      " [0.5977251 ]\n",
      " [0.58596915]\n",
      " [0.5857984 ]\n",
      " [0.5855139 ]\n",
      " [0.5820574 ]\n",
      " [0.57642186]\n",
      " [0.58515334]\n",
      " [0.5853431 ]\n",
      " [0.58680344]\n",
      " [0.5891525 ]\n",
      " [0.5850394 ]\n",
      " [0.58055514]\n",
      " [0.5875425 ]\n",
      " [0.5858364 ]\n",
      " [0.59229225]\n",
      " [0.58657587]\n",
      " [0.6003972 ]\n",
      " [0.60035944]\n",
      " [0.59874177]\n",
      " [0.5975744 ]\n",
      " [0.60705715]\n",
      " [0.6260286 ]\n",
      " [0.6180242 ]\n",
      " [0.6121966 ]\n",
      " [0.62180984]\n",
      " [0.6302161 ]\n",
      " [0.6287971 ]\n",
      " [0.63798434]\n",
      " [0.64670676]\n",
      " [0.64207935]\n",
      " [0.639485  ]\n",
      " [0.6398507 ]\n",
      " [0.6509724 ]\n",
      " [0.65336215]\n",
      " [0.65990907]\n",
      " [0.666473  ]\n",
      " [0.6676883 ]\n",
      " [0.66756326]\n",
      " [0.6576948 ]\n",
      " [0.6365737 ]\n",
      " [0.63774645]\n",
      " [0.64799714]\n",
      " [0.65008414]\n",
      " [0.66588277]\n",
      " [0.6764782 ]\n",
      " [0.67104185]\n",
      " [0.6608797 ]\n",
      " [0.6820286 ]\n",
      " [0.6886193 ]\n",
      " [0.6863394 ]\n",
      " [0.6736567 ]\n",
      " [0.6687954 ]\n",
      " [0.66702724]\n",
      " [0.66219085]\n",
      " [0.66684824]\n",
      " [0.66140074]\n",
      " [0.65451914]\n",
      " [0.6389544 ]\n",
      " [0.6557651 ]\n",
      " [0.64727014]\n",
      " [0.6573523 ]\n",
      " [0.65195066]\n",
      " [0.6367753 ]\n",
      " [0.6400882 ]\n",
      " [0.6239949 ]\n",
      " [0.6098813 ]\n",
      " [0.61103934]\n",
      " [0.6174481 ]\n",
      " [0.61251366]\n",
      " [0.6091151 ]\n",
      " [0.6116182 ]\n",
      " [0.6096385 ]\n",
      " [0.6209387 ]\n",
      " [0.63284737]\n",
      " [0.6310815 ]\n",
      " [0.6388994 ]\n",
      " [0.6547539 ]\n",
      " [0.6571721 ]\n",
      " [0.6496307 ]\n",
      " [0.6445773 ]\n",
      " [0.6439942 ]\n",
      " [0.6425538 ]\n",
      " [0.65468174]\n",
      " [0.6401979 ]\n",
      " [0.6474519 ]\n",
      " [0.64211565]\n",
      " [0.6522765 ]\n",
      " [0.65073675]\n",
      " [0.651661  ]\n",
      " [0.6507731 ]\n",
      " [0.64563316]\n",
      " [0.6473429 ]\n",
      " [0.65672123]\n",
      " [0.6566129 ]\n",
      " [0.6586134 ]\n",
      " [0.6526205 ]\n",
      " [0.66622245]\n",
      " [0.65646863]\n",
      " [0.6403624 ]\n",
      " [0.65073675]\n",
      " [0.63662875]\n",
      " [0.6410568 ]\n",
      " [0.649032  ]\n",
      " [0.66477287]\n",
      " [0.6803525 ]\n",
      " [0.66425323]\n",
      " [0.6565949 ]\n",
      " [0.6528919 ]\n",
      " [0.6682955 ]\n",
      " [0.6589194 ]\n",
      " [0.64406705]\n",
      " [0.63396823]\n",
      " [0.629221  ]\n",
      " [0.6259363 ]\n",
      " [0.62497526]\n",
      " [0.6206048 ]\n",
      " [0.6133901 ]\n",
      " [0.60716957]\n",
      " [0.6129799 ]\n",
      " [0.60918975]\n",
      " [0.60627073]\n",
      " [0.6093021 ]\n",
      " [0.61452675]\n",
      " [0.6070011 ]\n",
      " [0.60666406]\n",
      " [0.6214576 ]\n",
      " [0.62569606]\n",
      " [0.6237172 ]\n",
      " [0.63552845]\n",
      " [0.6344825 ]\n",
      " [0.6219025 ]\n",
      " [0.6287051 ]\n",
      " [0.6309158 ]\n",
      " [0.6281886 ]\n",
      " [0.628834  ]\n",
      " [0.6070011 ]\n",
      " [0.62613934]\n",
      " [0.6502836 ]\n",
      " [0.65292805]\n",
      " [0.6656142 ]\n",
      " [0.66702724]\n",
      " [0.6653457 ]\n",
      " [0.67397654]\n",
      " [0.6777004 ]\n",
      " [0.67056084]\n",
      " [0.6532175 ]\n",
      " [0.6693483 ]\n",
      " [0.6854963 ]\n",
      " [0.7012254 ]\n",
      " [0.7051623 ]\n",
      " [0.69880015]\n",
      " [0.7037655 ]\n",
      " [0.68352616]\n",
      " [0.67344344]\n",
      " [0.6659721 ]\n",
      " [0.6795044 ]\n",
      " [0.66802776]\n",
      " [0.6666697 ]\n",
      " [0.66220886]\n",
      " [0.6685277 ]\n",
      " [0.6681348 ]\n",
      " [0.6596752 ]\n",
      " [0.6507731 ]\n",
      " [0.63829553]\n",
      " [0.63532674]\n",
      " [0.64014316]\n",
      " [0.62256926]\n",
      " [0.6253633 ]\n",
      " [0.62445736]\n",
      " [0.61640674]\n",
      " [0.6192688 ]\n",
      " [0.64696115]\n",
      " [0.66409206]\n",
      " [0.68052906]\n",
      " [0.69016   ]\n",
      " [0.6775942 ]\n",
      " [0.69173336]\n",
      " [0.69985753]\n",
      " [0.69661224]\n",
      " [0.68790096]\n",
      " [0.69347864]\n",
      " [0.6975332 ]\n",
      " [0.6817818 ]\n",
      " [0.676815  ]\n",
      " [0.6775233 ]\n",
      " [0.6793453 ]\n",
      " [0.67764705]\n",
      " [0.67982244]\n",
      " [0.6747401 ]\n",
      " [0.7057824 ]\n",
      " [0.7056447 ]\n",
      " [0.69386196]\n",
      " [0.6905449 ]\n",
      " [0.69886947]\n",
      " [0.7051796 ]\n",
      " [0.69992673]\n",
      " [0.7183051 ]\n",
      " [0.7013984 ]\n",
      " [0.69652545]\n",
      " [0.6771514 ]\n",
      " [0.6792925 ]\n",
      " [0.6784081 ]\n",
      " [0.68662024]\n",
      " [0.6735677 ]\n",
      " [0.67764705]\n",
      " [0.66758114]\n",
      " [0.6657753 ]\n",
      " [0.66731304]\n",
      " [0.67221653]\n",
      " [0.6801582 ]\n",
      " [0.674083  ]\n",
      " [0.67702734]\n",
      " [0.6901077 ]\n",
      " [0.6746867 ]\n",
      " [0.6798048 ]\n",
      " [0.65985507]\n",
      " [0.65785694]\n",
      " [0.6608439 ]\n",
      " [0.6829274 ]\n",
      " [0.6726257 ]\n",
      " [0.68542594]\n",
      " [0.6905624 ]\n",
      " [0.69982284]\n",
      " [0.70807016]\n",
      " [0.6924666 ]\n",
      " [0.6946112 ]\n",
      " [0.6888997 ]\n",
      " [0.7103352 ]\n",
      " [0.6999962 ]\n",
      " [0.7151559 ]\n",
      " [0.72392976]\n",
      " [0.72457117]\n",
      " [0.724183  ]\n",
      " [0.7218668 ]\n",
      " [0.7260551 ]\n",
      " [0.72201914]\n",
      " [0.7136713 ]\n",
      " [0.7037481 ]\n",
      " [0.6962819 ]\n",
      " [0.7275365 ]\n",
      " [0.72718334]\n",
      " [0.74161917]\n",
      " [0.74347067]\n",
      " [0.7410232 ]\n",
      " [0.76059717]\n",
      " [0.7790833 ]\n",
      " [0.77788275]\n",
      " [0.7950246 ]\n",
      " [0.81478256]\n",
      " [0.81656533]\n",
      " [0.8022598 ]\n",
      " [0.8093447 ]\n",
      " [0.8261894 ]\n",
      " [0.8022905 ]\n",
      " [0.783286  ]\n",
      " [0.7976446 ]\n",
      " [0.8193274 ]\n",
      " [0.818     ]\n",
      " [0.8243737 ]\n",
      " [0.8268083 ]\n",
      " [0.83036244]\n",
      " [0.822167  ]\n",
      " [0.83609194]\n",
      " [0.81512743]\n",
      " [0.81711864]\n",
      " [0.82404834]\n",
      " [0.8247134 ]\n",
      " [0.80505085]\n",
      " [0.81246805]\n",
      " [0.80054617]\n",
      " [0.7905635 ]\n",
      " [0.79250294]\n",
      " [0.7992275 ]\n",
      " [0.79962635]\n",
      " [0.80074525]\n",
      " [0.81547225]\n",
      " [0.81953615]\n",
      " [0.78439957]\n",
      " [0.78141576]\n",
      " [0.76902467]\n",
      " [0.7865901 ]\n",
      " [0.7554873 ]\n",
      " [0.7427769 ]\n",
      " [0.75438   ]\n",
      " [0.7459935 ]\n",
      " [0.75613785]\n",
      " [0.7538419 ]\n",
      " [0.7628416 ]\n",
      " [0.77395153]\n",
      " [0.76051617]\n",
      " [0.7574541 ]\n",
      " [0.7563169 ]\n",
      " [0.7680964 ]\n",
      " [0.78084904]\n",
      " [0.7954568 ]\n",
      " [0.7684806 ]\n",
      " [0.772233  ]\n",
      " [0.77358603]\n",
      " [0.7961355 ]\n",
      " [0.8055378 ]\n",
      " [0.8054769 ]\n",
      " [0.79762936]\n",
      " [0.8064345 ]\n",
      " [0.80262655]\n",
      " [0.7910916 ]\n",
      " [0.7902837 ]\n",
      " [0.80687505]\n",
      " [0.81147385]\n",
      " [0.80456364]\n",
      " [0.7978908 ]\n",
      " [0.79993296]\n",
      " [0.80361867]\n",
      " [0.7963975 ]\n",
      " [0.79133993]\n",
      " [0.7863557 ]\n",
      " [0.7978908 ]\n",
      " [0.7905635 ]\n",
      " [0.7868401 ]\n",
      " [0.7916503 ]\n",
      " [0.8092841 ]\n",
      " [0.78009284]\n",
      " [0.7917899 ]\n",
      " [0.7721854 ]\n",
      " [0.76554567]\n",
      " [0.77181894]\n",
      " [0.7713567 ]\n",
      " [0.76269644]\n",
      " [0.76594734]\n",
      " [0.7662042 ]\n",
      " [0.76495093]\n",
      " [0.7817777 ]\n",
      " [0.77672774]\n",
      " [0.7618898 ]\n",
      " [0.7617445 ]\n",
      " [0.76250285]\n",
      " [0.76337343]\n",
      " [0.7529772 ]\n",
      " [0.75086874]\n",
      " [0.7639532 ]\n",
      " [0.7513269 ]\n",
      " [0.7462403 ]\n",
      " [0.75305897]\n",
      " [0.7665092 ]\n",
      " [0.7731088 ]\n",
      " [0.7649669 ]\n",
      " [0.7737448 ]\n",
      " [0.7743328 ]\n",
      " [0.75969106]\n",
      " [0.7557476 ]\n",
      " [0.7569668 ]\n",
      " [0.7650474 ]\n",
      " [0.7781831 ]\n",
      " [0.77960414]\n",
      " [0.77501553]\n",
      " [0.78790134]\n",
      " [0.789537  ]\n",
      " [0.7891947 ]\n",
      " [0.79701364]\n",
      " [0.7939736 ]\n",
      " [0.8048986 ]\n",
      " [0.7963821 ]\n",
      " [0.79718304]\n",
      " [0.79844403]\n",
      " [0.8004695 ]\n",
      " [0.82036966]\n",
      " [0.82797074]\n",
      " [0.8325994 ]\n",
      " [0.82271564]\n",
      " [0.8184628 ]\n",
      " [0.81151915]\n",
      " [0.82287866]\n",
      " [0.81605643]\n",
      " [0.8146626 ]\n",
      " [0.80881506]\n",
      " [0.8145124 ]\n",
      " [0.81569695]\n",
      " [0.815742  ]\n",
      " [0.8172981 ]\n",
      " [0.8062522 ]\n",
      " [0.7969522 ]\n",
      " [0.7922861 ]\n",
      " [0.7858712 ]\n",
      " [0.78272074]\n",
      " [0.77194643]\n",
      " [0.7726311 ]\n",
      " [0.7752219 ]\n",
      " [0.7816517 ]\n",
      " [0.7830661 ]\n",
      " [0.782972  ]\n",
      " [0.7765219 ]\n",
      " [0.7715159 ]]\n"
     ]
    }
   ],
   "source": [
    "#test model\n",
    "\n",
    "test_predict = model.predict(testX, verbose=1)\n",
    "print(test_predict)"
   ]
  },
  {
   "cell_type": "code",
   "execution_count": 201,
   "metadata": {},
   "outputs": [],
   "source": [
    "#invert value\n",
    "\n",
    "predictedTest = scaler.inverse_transform(test_predict)\n",
    "testY = scaler.inverse_transform(test_y)\n",
    "trainY = scaler.inverse_transform(train_y)"
   ]
  },
  {
   "cell_type": "code",
   "execution_count": 202,
   "metadata": {},
   "outputs": [],
   "source": [
    "\n",
    "#reshape array to 1d array\n",
    "\n",
    "trainY = trainY.flatten()\n",
    "testY = testY.flatten()\n",
    "predictedTest = predictedTest.flatten()"
   ]
  },
  {
   "cell_type": "code",
   "execution_count": 203,
   "metadata": {},
   "outputs": [
    {
     "data": {
      "text/plain": [
       "691"
      ]
     },
     "execution_count": 203,
     "metadata": {},
     "output_type": "execute_result"
    }
   ],
   "source": [
    "len(testY)"
   ]
  },
  {
   "cell_type": "code",
   "execution_count": 204,
   "metadata": {},
   "outputs": [
    {
     "data": {
      "text/plain": [
       "array([1.3218634, 1.3184378, 1.3190854, 1.3223263, 1.317625 , 1.3154559,\n",
       "       1.3140277, 1.3104115, 1.3064134, 1.3080058, 1.3072634, 1.3156039,\n",
       "       1.3100069, 1.3117719, 1.3241639, 1.3167152, 1.3199129, 1.3191975,\n",
       "       1.3188093, 1.320197 , 1.3192234, 1.3165158, 1.3205755, 1.3293276,\n",
       "       1.3290746, 1.3363056, 1.3336369, 1.3359159, 1.3340871, 1.3363304,\n",
       "       1.3297739, 1.327977 , 1.3285683, 1.3256881, 1.3311187, 1.3257561,\n",
       "       1.3201367, 1.3147599, 1.3132331, 1.3157864, 1.3163769, 1.3229681,\n",
       "       1.3190336, 1.31993  , 1.3139317, 1.316776 , 1.315343 , 1.3162555,\n",
       "       1.3213402, 1.3201108, 1.3302114, 1.3306149, 1.3350108, 1.3225746,\n",
       "       1.3123237, 1.3144461, 1.3105696, 1.3052866, 1.3039348, 1.3060588,\n",
       "       1.308465 , 1.315282 , 1.3142021, 1.3099717, 1.3125775, 1.310754 ,\n",
       "       1.3108858, 1.3105785, 1.3098925, 1.302981 , 1.3034804, 1.3051178,\n",
       "       1.3017483, 1.3025883, 1.2972931, 1.2958659, 1.2910877, 1.2832794,\n",
       "       1.2853475, 1.2866546, 1.287408 , 1.279532 , 1.2805917, 1.281492 ,\n",
       "       1.2758362, 1.2802572, 1.2787683, 1.2861394, 1.2900467, 1.2937001,\n",
       "       1.2893423, 1.2895893, 1.2888021, 1.2888389, 1.2871968, 1.2806009,\n",
       "       1.2423257, 1.2779386, 1.2834089, 1.2735013, 1.2726271, 1.2743556,\n",
       "       1.2787497, 1.2825208, 1.2765937, 1.2756958, 1.27096  , 1.2818999,\n",
       "       1.28035  , 1.2779946, 1.2689105, 1.2708658, 1.2780132, 1.2793736,\n",
       "       1.2753024, 1.2866361, 1.2880045, 1.2853658, 1.2893881, 1.283788 ,\n",
       "       1.2836862, 1.2872702, 1.2813158, 1.2793921, 1.2756021, 1.2754991,\n",
       "       1.2759297, 1.2747401, 1.2698181, 1.2767154, 1.2758642, 1.2740835,\n",
       "       1.2663236, 1.2673007, 1.2657441, 1.2578523, 1.2673861, 1.2754991,\n",
       "       1.2703751, 1.2698181, 1.2731255, 1.2738018, 1.2694685, 1.2719212,\n",
       "       1.270526 , 1.2683523, 1.259905 , 1.253933 , 1.2545313, 1.2513609,\n",
       "       1.2462413, 1.2560154, 1.2590902, 1.258889 , 1.2655065, 1.2642316,\n",
       "       1.2666178, 1.2649454, 1.2655349, 1.2684186, 1.2630498, 1.2613022,\n",
       "       1.2630212, 1.2588314, 1.2637268, 1.2676514, 1.2628495, 1.2598475,\n",
       "       1.2625443, 1.2604507, 1.2585244, 1.2610823, 1.258582 , 1.2589751,\n",
       "       1.2675377, 1.257247 , 1.25717  , 1.2556976, 1.2468258, 1.2478186,\n",
       "       1.2377146, 1.2350852, 1.2353712, 1.2354698, 1.237449 , 1.2341875,\n",
       "       1.2229666, 1.218972 , 1.21694  , 1.2172104, 1.2196319, 1.2243915,\n",
       "       1.2186719, 1.2137105, 1.2148347, 1.2208011, 1.2138108, 1.2142626,\n",
       "       1.2125351, 1.2139615, 1.2205813, 1.2145839, 1.2153461, 1.2136301,\n",
       "       1.2144634, 1.2113489, 1.2182717, 1.2151456, 1.2162386, 1.2187121,\n",
       "       1.219032 , 1.2168698, 1.2233654, 1.2216697, 1.2261131, 1.2352628,\n",
       "       1.2418655, 1.2520579, 1.2442906, 1.2384125, 1.2377539, 1.2396206,\n",
       "       1.2366322, 1.2407683, 1.2468454, 1.2465044, 1.2511673, 1.2403761,\n",
       "       1.2413464, 1.2528511, 1.2551291, 1.2595793, 1.2517773, 1.2525706,\n",
       "       1.258908 , 1.2583804, 1.265402 , 1.2680494, 1.2801642, 1.2735388,\n",
       "       1.2634884, 1.2630212, 1.2633549, 1.2607282, 1.2656109, 1.2587833,\n",
       "       1.2519999, 1.2536819, 1.2569969, 1.260087 , 1.2612066, 1.2570162,\n",
       "       1.263679 , 1.2639554, 1.2587161, 1.2575448, 1.2588121, 1.2584283,\n",
       "       1.2635552, 1.268958 , 1.2724108, 1.2880414, 1.287555 , 1.2712712,\n",
       "       1.2660671, 1.2653733, 1.2744586, 1.2674904, 1.2672912, 1.2679735,\n",
       "       1.2685037, 1.2618566, 1.2597995, 1.2601829, 1.2708374, 1.2753117,\n",
       "       1.2723638, 1.2739521, 1.2709882, 1.274937 , 1.2681628, 1.2741396,\n",
       "       1.2818352, 1.2853843, 1.2870773, 1.2838619, 1.2723072, 1.2711204,\n",
       "       1.2689295, 1.2737173, 1.2808889, 1.2743742, 1.268816 , 1.265478 ,\n",
       "       1.2648027, 1.2651356, 1.2613978, 1.2553605, 1.2550038, 1.2545891,\n",
       "       1.2507894, 1.2447398, 1.2446518, 1.2445054, 1.2427268, 1.2398267,\n",
       "       1.2443199, 1.2444175, 1.245169 , 1.246378 , 1.2442613, 1.2419537,\n",
       "       1.2455494, 1.2446715, 1.2479937, 1.2450519, 1.2521644, 1.252145 ,\n",
       "       1.2513125, 1.2507118, 1.2555916, 1.2653543, 1.2612352, 1.2582364,\n",
       "       1.2631834, 1.2675092, 1.266779 , 1.2715068, 1.2759954, 1.273614 ,\n",
       "       1.2722789, 1.2724671, 1.2781904, 1.2794201, 1.2827892, 1.286167 ,\n",
       "       1.2867925, 1.286728 , 1.2816498, 1.2707808, 1.2713842, 1.2766594,\n",
       "       1.2777333, 1.2858633, 1.2913157, 1.2885181, 1.2832887, 1.2941719,\n",
       "       1.2975636, 1.2963903, 1.2898638, 1.2873621, 1.2864523, 1.2839634,\n",
       "       1.2863601, 1.2835569, 1.2800156, 1.2720059, 1.2806567, 1.2762853,\n",
       "       1.2814735, 1.2786938, 1.2708846, 1.2725893, 1.2643077, 1.2570449,\n",
       "       1.257641 , 1.2609388, 1.2583995, 1.2566507, 1.2579387, 1.25692  ,\n",
       "       1.2627351, 1.2688632, 1.2679546, 1.2719777, 1.2801363, 1.2813808,\n",
       "       1.2775   , 1.2748995, 1.2745994, 1.2738582, 1.2800993, 1.2726458,\n",
       "       1.2763788, 1.2736328, 1.2788615, 1.2780691, 1.2785448, 1.2780879,\n",
       "       1.2754428, 1.2763227, 1.2811487, 1.281093 , 1.2821225, 1.2790385,\n",
       "       1.286038 , 1.2810187, 1.2727305, 1.2780691, 1.2708092, 1.2730879,\n",
       "       1.2771919, 1.285292 , 1.2933095, 1.2850248, 1.2810837, 1.2791781,\n",
       "       1.2871048, 1.28228  , 1.274637 , 1.26944  , 1.2669971, 1.2653068,\n",
       "       1.2648122, 1.2625632, 1.2588505, 1.2556496, 1.2586395, 1.2566891,\n",
       "       1.255187 , 1.2567469, 1.2594355, 1.2555628, 1.2553893, 1.2630022,\n",
       "       1.2651832, 1.2641648, 1.2702429, 1.2697047, 1.263231 , 1.2667316,\n",
       "       1.2678694, 1.2664659, 1.266798 , 1.2555628, 1.2654114, 1.277836 ,\n",
       "       1.2791969, 1.2857251, 1.2864523, 1.285587 , 1.2900283, 1.2919446,\n",
       "       1.2882706, 1.2793458, 1.2876467, 1.2959565, 1.3040506, 1.3060765,\n",
       "       1.3028026, 1.3053577, 1.2949425, 1.2897539, 1.2859092, 1.292873 ,\n",
       "       1.286967 , 1.2862682, 1.2839726, 1.2872243, 1.2870221, 1.2826688,\n",
       "       1.2780879, 1.2716669, 1.2701391, 1.2726177, 1.2635742, 1.265012 ,\n",
       "       1.2645458, 1.2604029, 1.2618756, 1.2761263, 1.2849418, 1.2934003,\n",
       "       1.2983564, 1.29189  , 1.299166 , 1.3033466, 1.3016766, 1.2971939,\n",
       "       1.3000641, 1.3021506, 1.294045 , 1.291489 , 1.2918535, 1.2927911,\n",
       "       1.2919172, 1.2930367, 1.2904212, 1.3063956, 1.3063247, 1.3002614,\n",
       "       1.2985544, 1.3028382, 1.3060853, 1.3033823, 1.3128399, 1.3041396,\n",
       "       1.3016319, 1.2916622, 1.292764 , 1.2923088, 1.2965348, 1.289818 ,\n",
       "       1.2919172, 1.2867372, 1.285808 , 1.2865994, 1.2891226, 1.2932094,\n",
       "       1.2900832, 1.2915982, 1.2983294, 1.2903938, 1.2930276, 1.2827615,\n",
       "       1.2817332, 1.2832702, 1.2946345, 1.2893332, 1.2959203, 1.2985635,\n",
       "       1.3033289, 1.3075728, 1.2995433, 1.3006469, 1.2977078, 1.3087386,\n",
       "       1.303418 , 1.3112192, 1.3157343, 1.3160644, 1.3158647, 1.3146727,\n",
       "       1.316828 , 1.3147511, 1.3104552, 1.3053488, 1.3015068, 1.3175902,\n",
       "       1.3174086, 1.3248372, 1.32579  , 1.3245305, 1.3346034, 1.3441163,\n",
       "       1.3434986, 1.3523197, 1.3624872, 1.3634045, 1.3560429, 1.3596889,\n",
       "       1.3683571, 1.3560587, 1.3462789, 1.353668 , 1.3648258, 1.3641429,\n",
       "       1.3674227, 1.3686756, 1.3705045, 1.3662871, 1.373453 , 1.3626646,\n",
       "       1.3636893, 1.3672553, 1.3675976, 1.3574792, 1.361296 , 1.3551611,\n",
       "       1.3500241, 1.351022 , 1.3544825, 1.3546878, 1.3552636, 1.362842 ,\n",
       "       1.3649334, 1.3468521, 1.3453165, 1.3389401, 1.3479793, 1.3319738,\n",
       "       1.325433 , 1.331404 , 1.3270882, 1.3323085, 1.331127 , 1.3357582,\n",
       "       1.3414755, 1.3345617, 1.332986 , 1.3324007, 1.3384625, 1.345025 ,\n",
       "       1.3525422, 1.3386601, 1.3405912, 1.3412874, 1.3528913, 1.3577298,\n",
       "       1.3576984, 1.3536601, 1.3581911, 1.3562317, 1.3502958, 1.34988  ,\n",
       "       1.3584179, 1.3607845, 1.3572284, 1.3537946, 1.3548455, 1.3567423,\n",
       "       1.3530262, 1.3504236, 1.3478587, 1.3537946, 1.3500241, 1.3481079,\n",
       "       1.3505833, 1.3596575, 1.3446357, 1.3506551, 1.3405666, 1.3371499,\n",
       "       1.340378 , 1.3401401, 1.3356837, 1.3373566, 1.3374887, 1.3368438,\n",
       "       1.3455029, 1.3429041, 1.3352685, 1.3351938, 1.335584 , 1.336032 ,\n",
       "       1.330682 , 1.3295971, 1.3363304, 1.3298328, 1.3272153, 1.3307241,\n",
       "       1.3376456, 1.3410418, 1.3368521, 1.3413692, 1.3416717, 1.3341371,\n",
       "       1.3321078, 1.3327352, 1.3368934, 1.343653 , 1.3443843, 1.342023 ,\n",
       "       1.3486542, 1.3494958, 1.3493196, 1.3533432, 1.3517789, 1.3574008,\n",
       "       1.3530183, 1.3534304, 1.3540794, 1.3551216, 1.3653623, 1.3692738,\n",
       "       1.3716557, 1.3665694, 1.3643811, 1.3608078, 1.3666533, 1.3631427,\n",
       "       1.3624253, 1.3594162, 1.3623481, 1.3629577, 1.3629808, 1.3637817,\n",
       "       1.3580974, 1.3533117, 1.3509105, 1.3476094, 1.3459882, 1.3404436,\n",
       "       1.340796 , 1.3421292, 1.345438 , 1.3461658, 1.3461174, 1.3427982,\n",
       "       1.3402221], dtype=float32)"
      ]
     },
     "execution_count": 204,
     "metadata": {},
     "output_type": "execute_result"
    }
   ],
   "source": [
    "predictedTest"
   ]
  },
  {
   "cell_type": "code",
   "execution_count": 205,
   "metadata": {},
   "outputs": [
    {
     "name": "stdout",
     "output_type": "stream",
     "text": [
      "0.00567358543971556\n"
     ]
    }
   ],
   "source": [
    "#calculate RMSE\n",
    "mse = mean_squared_error(testY,predictedTest, squared=False)\n",
    "print(mse)"
   ]
  },
  {
   "cell_type": "code",
   "execution_count": 206,
   "metadata": {},
   "outputs": [
    {
     "data": {
      "text/plain": [
       "dict_keys(['loss', 'root_mean_squared_error', 'val_loss', 'val_root_mean_squared_error'])"
      ]
     },
     "execution_count": 206,
     "metadata": {},
     "output_type": "execute_result"
    }
   ],
   "source": [
    "history.history.keys()"
   ]
  },
  {
   "cell_type": "code",
   "execution_count": 207,
   "metadata": {},
   "outputs": [
    {
     "data": {
      "image/png": "[encoded data removed]",
      "text/plain": [
       "<Figure size 432x288 with 1 Axes>"
      ]
     },
     "metadata": {
      "needs_background": "light"
     },
     "output_type": "display_data"
    }
   ],
   "source": [
    "#loss visualization in training and validation\n",
    "# summarize history for loss\n",
    "\n",
    "plt.plot(history.history['loss'])\n",
    "plt.plot(history.history['val_loss'])\n",
    "plt.title('model loss')\n",
    "plt.ylabel('loss')\n",
    "plt.xlabel('epoch')\n",
    "plt.legend(['train', 'test'], loc='upper left')\n",
    "plt.show()  "
   ]
  },
  {
   "cell_type": "code",
   "execution_count": 208,
   "metadata": {},
   "outputs": [
    {
     "data": {
      "text/plain": [
       "<matplotlib.legend.Legend at 0x2300b014520>"
      ]
     },
     "execution_count": 208,
     "metadata": {},
     "output_type": "execute_result"
    },
    {
     "data": {
      "image/png": "[encoded data removed]",
      "text/plain": [
       "<Figure size 720x432 with 1 Axes>"
      ]
     },
     "metadata": {
      "needs_background": "light"
     },
     "output_type": "display_data"
    }
   ],
   "source": [
    "### Plotting iteration-rmse graph for training as well as validation\n",
    "plt.figure(figsize = (10,6))\n",
    "plt.plot(history.history['root_mean_squared_error'],label='Training RMSE',color='b')\n",
    "plt.plot(history.history['val_root_mean_squared_error'],label='Validation-RMSE',color='g')\n",
    "plt.xlabel(\"Iteration\")\n",
    "plt.ylabel(\"RMSE\")\n",
    "plt.title('RMSE')\n",
    "plt.legend()"
   ]
  },
  {
   "cell_type": "code",
   "execution_count": 171,
   "metadata": {},
   "outputs": [],
   "source": [
    "\n",
    "#convert string to datetime\n",
    "\n",
    "def to_datetime(test_date):\n",
    "  test_datetime = []\n",
    "  for i in test_date:\n",
    "    #date = datetime.datetime.strptime(test_date[i], \"%Y.%m.%d\")\n",
    "    #date = datetime.datetime.strptime(test_date[i], \"%Y-%m-%d\")\n",
    "    x = pd.to_datetime(i)\n",
    "\n",
    "    str(x.date())\n",
    "    test_datetime.append(str(x.date()))\n",
    "    #test_datetime.append(date)\n",
    "  return test_datetime\n",
    "\n",
    "#timestamp = pd.to_datetime(T[1:]).strftime(\"%Y%m%d %I:%M:%S\")\n",
    "test_datetime = to_datetime(test_date)"
   ]
  },
  {
   "cell_type": "code",
   "execution_count": 172,
   "metadata": {},
   "outputs": [
    {
     "data": {
      "text/plain": [
       "691"
      ]
     },
     "execution_count": 172,
     "metadata": {},
     "output_type": "execute_result"
    }
   ],
   "source": [
    "len(test_datetime)"
   ]
  },
  {
   "cell_type": "code",
   "execution_count": 173,
   "metadata": {},
   "outputs": [],
   "source": [
    "test_datetime = test_datetime[-100:]"
   ]
  },
  {
   "cell_type": "code",
   "execution_count": 175,
   "metadata": {},
   "outputs": [],
   "source": [
    "testY = testY[-100:]"
   ]
  },
  {
   "cell_type": "code",
   "execution_count": 176,
   "metadata": {},
   "outputs": [
    {
     "data": {
      "text/plain": [
       "array([1.33366001, 1.34096003, 1.34898996, 1.35836005, 1.34119999,\n",
       "       1.34354997, 1.34440005, 1.35880005, 1.36494005, 1.36489999,\n",
       "       1.35977006, 1.36553001, 1.36302996, 1.35554004, 1.35502005,\n",
       "       1.36582005, 1.36886001, 1.36430001, 1.35994005, 1.36126995,\n",
       "       1.36368001, 1.35897005, 1.35570002, 1.35249996, 1.35994005,\n",
       "       1.35520005, 1.35281003, 1.35590005, 1.36740994, 1.34851003,\n",
       "       1.35599005, 1.34352005, 1.33937001, 1.34328997, 1.34300005,\n",
       "       1.33759999, 1.33961999, 1.33977997, 1.33899999, 1.34958005,\n",
       "       1.34638   , 1.33710003, 1.33701003, 1.33747995, 1.33801997,\n",
       "       1.33160996, 1.33032   , 1.33837998, 1.33060002, 1.32749999,\n",
       "       1.33166003, 1.33996999, 1.3441    , 1.33901   , 1.34449995,\n",
       "       1.34486997, 1.33573997, 1.33331001, 1.33405995, 1.33905995,\n",
       "       1.34730005, 1.34819996, 1.34529996, 1.35349   , 1.35453999,\n",
       "       1.35432005, 1.35936999, 1.35739994, 1.36451995, 1.35896003,\n",
       "       1.35948002, 1.36029994, 1.36161995, 1.37479997, 1.37994003,\n",
       "       1.38310003, 1.37637997, 1.37352002, 1.36889005, 1.37649   ,\n",
       "       1.37190998, 1.37098002, 1.3671    , 1.37088001, 1.37167001,\n",
       "       1.37170005, 1.37274003, 1.36540997, 1.35933006, 1.35631001,\n",
       "       1.35219002, 1.35018003, 1.34336996, 1.34379995, 1.34543002,\n",
       "       1.34949994, 1.35039997, 1.35034001, 1.34625006, 1.34309995])"
      ]
     },
     "execution_count": 176,
     "metadata": {},
     "output_type": "execute_result"
    }
   ],
   "source": [
    "testY"
   ]
  },
  {
   "cell_type": "code",
   "execution_count": 177,
   "metadata": {},
   "outputs": [],
   "source": [
    "predictedTest=predictedTest[-50:]"
   ]
  },
  {
   "cell_type": "code",
   "execution_count": 178,
   "metadata": {},
   "outputs": [
    {
     "data": {
      "text/plain": [
       "array([1.33366001, 1.34096003, 1.34898996, 1.35836005, 1.34119999,\n",
       "       1.34354997, 1.34440005, 1.35880005, 1.36494005, 1.36489999,\n",
       "       1.35977006, 1.36553001, 1.36302996, 1.35554004, 1.35502005,\n",
       "       1.36582005, 1.36886001, 1.36430001, 1.35994005, 1.36126995,\n",
       "       1.36368001, 1.35897005, 1.35570002, 1.35249996, 1.35994005,\n",
       "       1.35520005, 1.35281003, 1.35590005, 1.36740994, 1.34851003,\n",
       "       1.35599005, 1.34352005, 1.33937001, 1.34328997, 1.34300005,\n",
       "       1.33759999, 1.33961999, 1.33977997, 1.33899999, 1.34958005,\n",
       "       1.34638   , 1.33710003, 1.33701003, 1.33747995, 1.33801997,\n",
       "       1.33160996, 1.33032   , 1.33837998, 1.33060002, 1.32749999,\n",
       "       1.33166003, 1.33996999, 1.3441    , 1.33901   , 1.34449995,\n",
       "       1.34486997, 1.33573997, 1.33331001, 1.33405995, 1.33905995,\n",
       "       1.34730005, 1.34819996, 1.34529996, 1.35349   , 1.35453999,\n",
       "       1.35432005, 1.35936999, 1.35739994, 1.36451995, 1.35896003,\n",
       "       1.35948002, 1.36029994, 1.36161995, 1.37479997, 1.37994003,\n",
       "       1.38310003, 1.37637997, 1.37352002, 1.36889005, 1.37649   ,\n",
       "       1.37190998, 1.37098002, 1.3671    , 1.37088001, 1.37167001,\n",
       "       1.37170005, 1.37274003, 1.36540997, 1.35933006, 1.35631001,\n",
       "       1.35219002, 1.35018003, 1.34336996, 1.34379995, 1.34543002,\n",
       "       1.34949994, 1.35039997, 1.35034001, 1.34625006, 1.34309995])"
      ]
     },
     "execution_count": 178,
     "metadata": {},
     "output_type": "execute_result"
    }
   ],
   "source": [
    "testY"
   ]
  },
  {
   "cell_type": "code",
   "execution_count": 179,
   "metadata": {
    "scrolled": true
   },
   "outputs": [
    {
     "data": {
      "text/plain": [
       "array([1.3311882, 1.3371667, 1.3436196, 1.3509862, 1.3373613, 1.339262 ,\n",
       "       1.3399469, 1.3513278, 1.3560543, 1.3560236, 1.3520795, 1.3565044,\n",
       "       1.354592 , 1.3487877, 1.3483804, 1.3567256, 1.3590324, 1.3555651,\n",
       "       1.3522111, 1.3532382, 1.3550904, 1.3514597, 1.3489128, 1.3463997,\n",
       "       1.3522111, 1.3485216, 1.3466442, 1.3490692, 1.3579342, 1.3432375,\n",
       "       1.3491396, 1.339238 , 1.3358736, 1.3390523, 1.3388183, 1.3344282,\n",
       "       1.3360771, 1.3362074, 1.3355719, 1.3440888, 1.3415364, 1.3340187,\n",
       "       1.3339449, 1.3343298, 1.3347716, 1.3294902, 1.3284173, 1.3350658,\n",
       "       1.3286505, 1.3260605, 1.3295316, 1.3363621, 1.3397053, 1.3355801,\n",
       "       1.3400272, 1.3403249, 1.3329024, 1.3308989, 1.3315184, 1.3356209,\n",
       "       1.3422724, 1.3429905, 1.3406702, 1.3471795, 1.3480042, 1.3478316,\n",
       "       1.3517697, 1.3502395, 1.3557332, 1.3514519, 1.3518549, 1.3524894,\n",
       "       1.3535079, 1.363487 , 1.3672851, 1.3695942, 1.36466  , 1.362533 ,\n",
       "       1.359055 , 1.3647414, 1.3613284, 1.3606303, 1.3576989, 1.360555 ,\n",
       "       1.3611484, 1.361171 , 1.36195  , 1.3564129, 1.3517388, 1.3493896,\n",
       "       1.3461553, 1.3445649, 1.3391169, 1.3394635, 1.3407748, 1.3440251,\n",
       "       1.3447394, 1.3446919, 1.3414323, 1.3388989], dtype=float32)"
      ]
     },
     "execution_count": 179,
     "metadata": {},
     "output_type": "execute_result"
    }
   ],
   "source": [
    "predictedTest"
   ]
  },
  {
   "cell_type": "code",
   "execution_count": 180,
   "metadata": {},
   "outputs": [
    {
     "data": {
      "text/plain": [
       "array([0.0024718 , 0.00379336, 0.00537038, 0.00737381, 0.00383866,\n",
       "       0.00428796, 0.00445318, 0.00747228, 0.00888574, 0.00887644,\n",
       "       0.00769055, 0.00902557, 0.00843799, 0.00675237, 0.0066396 ,\n",
       "       0.00909448, 0.00982761, 0.00873494, 0.00772893, 0.00803173,\n",
       "       0.00858963, 0.0075103 , 0.00678718, 0.0061003 , 0.00772893,\n",
       "       0.00667846, 0.00616586, 0.00683081, 0.00947571, 0.00527251,\n",
       "       0.00685048, 0.004282  , 0.00349641, 0.00423765, 0.00418174,\n",
       "       0.0031718 , 0.0035429 , 0.00357258, 0.0034281 , 0.00549126,\n",
       "       0.00484359, 0.00308132, 0.00306511, 0.00315011, 0.00324833,\n",
       "       0.00211978, 0.0019027 , 0.00331414, 0.00194955, 0.00143945,\n",
       "       0.00212848, 0.00360787, 0.00439465, 0.00342989, 0.00447273,\n",
       "       0.00454509, 0.00283754, 0.00241113, 0.00254154, 0.00343907,\n",
       "       0.00502765, 0.00520945, 0.00462973, 0.00631046, 0.00653577,\n",
       "       0.00648844, 0.00760031, 0.00716043, 0.0087868 , 0.00750816,\n",
       "       0.0076251 , 0.00781059, 0.00811207, 0.01131296, 0.0126549 ,\n",
       "       0.01350582, 0.01171994, 0.01098704, 0.009835  , 0.01174855,\n",
       "       0.01058161, 0.01034975, 0.00940108, 0.01032495, 0.01052165,\n",
       "       0.01052904, 0.01078999, 0.00899708, 0.00759125, 0.00692046,\n",
       "       0.00603473, 0.00561512, 0.00425303, 0.00433648, 0.00465524,\n",
       "       0.00547481, 0.00566053, 0.00564814, 0.00481772, 0.00420105])"
      ]
     },
     "execution_count": 180,
     "metadata": {},
     "output_type": "execute_result"
    }
   ],
   "source": [
    "calc=testY - predictedTest\n",
    "calc"
   ]
  },
  {
   "cell_type": "code",
   "execution_count": 181,
   "metadata": {},
   "outputs": [
    {
     "data": {
      "text/plain": [
       "0.0024718046188354492"
      ]
     },
     "execution_count": 181,
     "metadata": {},
     "output_type": "execute_result"
    }
   ],
   "source": [
    "calc[0]"
   ]
  },
  {
   "cell_type": "code",
   "execution_count": 182,
   "metadata": {},
   "outputs": [],
   "source": [
    "predictedTest= predictedTest + calc[0]"
   ]
  },
  {
   "cell_type": "code",
   "execution_count": 183,
   "metadata": {},
   "outputs": [
    {
     "data": {
      "text/plain": [
       "array([1.33366  , 1.3396385, 1.3460914, 1.353458 , 1.3398331, 1.3417338,\n",
       "       1.3424187, 1.3537996, 1.3585261, 1.3584954, 1.3545513, 1.3589762,\n",
       "       1.3570638, 1.3512595, 1.3508523, 1.3591974, 1.3615042, 1.3580369,\n",
       "       1.3546829, 1.35571  , 1.3575622, 1.3539315, 1.3513846, 1.3488715,\n",
       "       1.3546829, 1.3509934, 1.349116 , 1.351541 , 1.360406 , 1.3457093,\n",
       "       1.3516114, 1.3417099, 1.3383454, 1.3415241, 1.3412901, 1.3369   ,\n",
       "       1.3385489, 1.3386792, 1.3380437, 1.3465606, 1.3440082, 1.3364905,\n",
       "       1.3364167, 1.3368016, 1.3372434, 1.331962 , 1.3308891, 1.3375376,\n",
       "       1.3311223, 1.3285323, 1.3320034, 1.3388339, 1.3421772, 1.3380519,\n",
       "       1.342499 , 1.3427967, 1.3353742, 1.3333707, 1.3339902, 1.3380927,\n",
       "       1.3447442, 1.3454623, 1.343142 , 1.3496513, 1.350476 , 1.3503034,\n",
       "       1.3542415, 1.3527113, 1.358205 , 1.3539237, 1.3543267, 1.3549612,\n",
       "       1.3559797, 1.3659588, 1.3697569, 1.372066 , 1.3671318, 1.3650048,\n",
       "       1.3615268, 1.3672132, 1.3638002, 1.3631021, 1.3601707, 1.3630269,\n",
       "       1.3636202, 1.3636428, 1.3644218, 1.3588847, 1.3542106, 1.3518614,\n",
       "       1.3486271, 1.3470367, 1.3415887, 1.3419353, 1.3432466, 1.3464969,\n",
       "       1.3472112, 1.3471637, 1.3439041, 1.3413707], dtype=float32)"
      ]
     },
     "execution_count": 183,
     "metadata": {},
     "output_type": "execute_result"
    }
   ],
   "source": [
    "predictedTest"
   ]
  },
  {
   "cell_type": "code",
   "execution_count": 184,
   "metadata": {},
   "outputs": [
    {
     "data": {
      "image/png": "[encoded data removed]",
      "text/plain": [
       "<Figure size 1080x720 with 1 Axes>"
      ]
     },
     "metadata": {
      "needs_background": "light"
     },
     "output_type": "display_data"
    }
   ],
   "source": [
    "#visualize data\n",
    "\n",
    "plt.figure(figsize=[15,10])\n",
    "plt.title('Prediction results in daily timeframe')\n",
    "plt.ylabel('Close Price')\n",
    "plt.xlabel('Date')\n",
    "plt.plot(test_datetime, testY)\n",
    "plt.plot(test_datetime, predictedTest)\n",
    "plt.legend(['true', 'predict'], loc='upper right')\n",
    "plt.xticks(rotation = 90)\n",
    "plt.show()\n"
   ]
  },
  {
   "cell_type": "code",
   "execution_count": 216,
   "metadata": {
    "scrolled": true
   },
   "outputs": [
    {
     "data": {
      "text/plain": [
       "['2022-11-25',\n",
       " '2022-11-28',\n",
       " '2022-11-29',\n",
       " '2022-11-30',\n",
       " '2022-12-01',\n",
       " '2022-12-02',\n",
       " '2022-12-05',\n",
       " '2022-12-06',\n",
       " '2022-12-07',\n",
       " '2022-12-08',\n",
       " '2022-12-09',\n",
       " '2022-12-12',\n",
       " '2022-12-13',\n",
       " '2022-12-14',\n",
       " '2022-12-15',\n",
       " '2022-12-16',\n",
       " '2022-12-19',\n",
       " '2022-12-20',\n",
       " '2022-12-21',\n",
       " '2022-12-22',\n",
       " '2022-12-23',\n",
       " '2022-12-26',\n",
       " '2022-12-27',\n",
       " '2022-12-28',\n",
       " '2022-12-29',\n",
       " '2022-12-30',\n",
       " '2023-01-02',\n",
       " '2023-01-03',\n",
       " '2023-01-04',\n",
       " '2023-01-05',\n",
       " '2023-01-06',\n",
       " '2023-01-09',\n",
       " '2023-01-10',\n",
       " '2023-01-11',\n",
       " '2023-01-12',\n",
       " '2023-01-13',\n",
       " '2023-01-16',\n",
       " '2023-01-17',\n",
       " '2023-01-18',\n",
       " '2023-01-19',\n",
       " '2023-01-20',\n",
       " '2023-01-23',\n",
       " '2023-01-24',\n",
       " '2023-01-25',\n",
       " '2023-01-26',\n",
       " '2023-01-27',\n",
       " '2023-01-30',\n",
       " '2023-01-31',\n",
       " '2023-02-01',\n",
       " '2023-02-02',\n",
       " '2023-02-03',\n",
       " '2023-02-06',\n",
       " '2023-02-07',\n",
       " '2023-02-08',\n",
       " '2023-02-09',\n",
       " '2023-02-10',\n",
       " '2023-02-13',\n",
       " '2023-02-14',\n",
       " '2023-02-15',\n",
       " '2023-02-16',\n",
       " '2023-02-17',\n",
       " '2023-02-20',\n",
       " '2023-02-21',\n",
       " '2023-02-22',\n",
       " '2023-02-23',\n",
       " '2023-02-24',\n",
       " '2023-02-27',\n",
       " '2023-02-28',\n",
       " '2023-03-01',\n",
       " '2023-03-02',\n",
       " '2023-03-03',\n",
       " '2023-03-06',\n",
       " '2023-03-07',\n",
       " '2023-03-08',\n",
       " '2023-03-09',\n",
       " '2023-03-10',\n",
       " '2023-03-13',\n",
       " '2023-03-14',\n",
       " '2023-03-15',\n",
       " '2023-03-16',\n",
       " '2023-03-17',\n",
       " '2023-03-20',\n",
       " '2023-03-21',\n",
       " '2023-03-22',\n",
       " '2023-03-23',\n",
       " '2023-03-24',\n",
       " '2023-03-27',\n",
       " '2023-03-28',\n",
       " '2023-03-29',\n",
       " '2023-03-30',\n",
       " '2023-03-31',\n",
       " '2023-04-03',\n",
       " '2023-04-04',\n",
       " '2023-04-05',\n",
       " '2023-04-06',\n",
       " '2023-04-07',\n",
       " '2023-04-10',\n",
       " '2023-04-11',\n",
       " '2023-04-12',\n",
       " '2023-04-13']"
      ]
     },
     "execution_count": 216,
     "metadata": {},
     "output_type": "execute_result"
    }
   ],
   "source": [
    "test_datetime"
   ]
  },
  {
   "cell_type": "code",
   "execution_count": 232,
   "metadata": {},
   "outputs": [
    {
     "data": {
      "text/plain": [
       "(1, 100)"
      ]
     },
     "execution_count": 232,
     "metadata": {},
     "output_type": "execute_result"
    }
   ],
   "source": [
    "x_input=testY[-100:].reshape(1,-1)\n",
    "x_input.shape"
   ]
  },
  {
   "cell_type": "code",
   "execution_count": 229,
   "metadata": {},
   "outputs": [],
   "source": [
    "temp_input = list(testY[-100:])"
   ]
  },
  {
   "cell_type": "code",
   "execution_count": 230,
   "metadata": {
    "collapsed": true
   },
   "outputs": [
    {
     "data": {
      "text/plain": [
       "[1.3336600065231323,\n",
       " 1.3409600257873537,\n",
       " 1.3489899635314941,\n",
       " 1.3583600521087646,\n",
       " 1.3411999940872192,\n",
       " 1.3435499668121338,\n",
       " 1.3444000482559204,\n",
       " 1.3588000535964966,\n",
       " 1.3649400472640991,\n",
       " 1.36489999294281,\n",
       " 1.3597700595855713,\n",
       " 1.365530014038086,\n",
       " 1.363029956817627,\n",
       " 1.3555400371551514,\n",
       " 1.3550200462341309,\n",
       " 1.365820050239563,\n",
       " 1.3688600063323975,\n",
       " 1.364300012588501,\n",
       " 1.3599400520324707,\n",
       " 1.3612699508666992,\n",
       " 1.3636800050735474,\n",
       " 1.358970046043396,\n",
       " 1.3557000160217285,\n",
       " 1.3524999618530273,\n",
       " 1.3599400520324707,\n",
       " 1.3552000522613525,\n",
       " 1.352810025215149,\n",
       " 1.3559000492095947,\n",
       " 1.3674099445343018,\n",
       " 1.3485100269317627,\n",
       " 1.3559900522232056,\n",
       " 1.3435200452804565,\n",
       " 1.3393700122833252,\n",
       " 1.3432899713516235,\n",
       " 1.343000054359436,\n",
       " 1.3375999927520752,\n",
       " 1.339619994163513,\n",
       " 1.3397799730300903,\n",
       " 1.3389999866485596,\n",
       " 1.3495800495147705,\n",
       " 1.3463799953460693,\n",
       " 1.3371000289916992,\n",
       " 1.3370100259780884,\n",
       " 1.3374799489974976,\n",
       " 1.3380199670791626,\n",
       " 1.3316099643707275,\n",
       " 1.3303200006484985,\n",
       " 1.338379979133606,\n",
       " 1.3306000232696533,\n",
       " 1.3274999856948853,\n",
       " 1.3316600322723389,\n",
       " 1.3399699926376343,\n",
       " 1.344099998474121,\n",
       " 1.3390100002288818,\n",
       " 1.344499945640564,\n",
       " 1.3448699712753296,\n",
       " 1.3357399702072144,\n",
       " 1.3333100080490112,\n",
       " 1.3340599536895752,\n",
       " 1.3390599489212036,\n",
       " 1.3473000526428223,\n",
       " 1.3481999635696411,\n",
       " 1.3452999591827393,\n",
       " 1.3534899950027466,\n",
       " 1.3545399904251099,\n",
       " 1.3543200492858887,\n",
       " 1.3593699932098389,\n",
       " 1.3573999404907227,\n",
       " 1.3645199537277222,\n",
       " 1.3589600324630737,\n",
       " 1.3594800233840942,\n",
       " 1.3602999448776245,\n",
       " 1.3616199493408203,\n",
       " 1.3747999668121338,\n",
       " 1.3799400329589844,\n",
       " 1.3831000328063965,\n",
       " 1.3763799667358398,\n",
       " 1.373520016670227,\n",
       " 1.3688900470733643,\n",
       " 1.3764899969100952,\n",
       " 1.3719099760055542,\n",
       " 1.3709800243377686,\n",
       " 1.3671000003814697,\n",
       " 1.3708800077438354,\n",
       " 1.3716700077056885,\n",
       " 1.3717000484466553,\n",
       " 1.3727400302886963,\n",
       " 1.3654099702835083,\n",
       " 1.3593300580978394,\n",
       " 1.3563100099563599,\n",
       " 1.3521900177001953,\n",
       " 1.3501800298690796,\n",
       " 1.343369960784912,\n",
       " 1.3437999486923218,\n",
       " 1.3454300165176392,\n",
       " 1.3494999408721924,\n",
       " 1.3503999710083008,\n",
       " 1.3503400087356567,\n",
       " 1.346250057220459,\n",
       " 1.3430999517440796]"
      ]
     },
     "execution_count": 230,
     "metadata": {},
     "output_type": "execute_result"
    }
   ],
   "source": [
    "temp_input"
   ]
  },
  {
   "cell_type": "code",
   "execution_count": 238,
   "metadata": {},
   "outputs": [
    {
     "ename": "ValueError",
     "evalue": "cannot reshape array of size 691 into shape (1,100,1)",
     "output_type": "error",
     "traceback": [
      "\u001b[1;31m---------------------------------------------------------------------------\u001b[0m",
      "\u001b[1;31mValueError\u001b[0m                                Traceback (most recent call last)",
      "\u001b[1;32m<ipython-input-238-8b3a12395f07>\u001b[0m in \u001b[0;36m<module>\u001b[1;34m\u001b[0m\n\u001b[0;32m     22\u001b[0m         \u001b[0mi\u001b[0m\u001b[1;33m=\u001b[0m\u001b[0mi\u001b[0m\u001b[1;33m+\u001b[0m\u001b[1;36m1\u001b[0m\u001b[1;33m\u001b[0m\u001b[1;33m\u001b[0m\u001b[0m\n\u001b[0;32m     23\u001b[0m     \u001b[1;32melse\u001b[0m\u001b[1;33m:\u001b[0m\u001b[1;33m\u001b[0m\u001b[1;33m\u001b[0m\u001b[0m\n\u001b[1;32m---> 24\u001b[1;33m         \u001b[0mx_input\u001b[0m \u001b[1;33m=\u001b[0m \u001b[0mtestY\u001b[0m\u001b[1;33m.\u001b[0m\u001b[0mreshape\u001b[0m\u001b[1;33m(\u001b[0m\u001b[1;33m(\u001b[0m\u001b[1;36m1\u001b[0m\u001b[1;33m,\u001b[0m \u001b[0mn_steps\u001b[0m\u001b[1;33m,\u001b[0m\u001b[1;36m1\u001b[0m\u001b[1;33m)\u001b[0m\u001b[1;33m)\u001b[0m\u001b[1;33m\u001b[0m\u001b[1;33m\u001b[0m\u001b[0m\n\u001b[0m\u001b[0;32m     25\u001b[0m         \u001b[0myhat\u001b[0m \u001b[1;33m=\u001b[0m \u001b[0mmodel\u001b[0m\u001b[1;33m.\u001b[0m\u001b[0mpredict\u001b[0m\u001b[1;33m(\u001b[0m\u001b[0mx_input\u001b[0m\u001b[1;33m,\u001b[0m \u001b[0mverbose\u001b[0m\u001b[1;33m=\u001b[0m\u001b[1;36m0\u001b[0m\u001b[1;33m)\u001b[0m\u001b[1;33m\u001b[0m\u001b[1;33m\u001b[0m\u001b[0m\n\u001b[0;32m     26\u001b[0m         \u001b[0mprint\u001b[0m\u001b[1;33m(\u001b[0m\u001b[0myhat\u001b[0m\u001b[1;33m[\u001b[0m\u001b[1;36m0\u001b[0m\u001b[1;33m]\u001b[0m\u001b[1;33m)\u001b[0m\u001b[1;33m\u001b[0m\u001b[1;33m\u001b[0m\u001b[0m\n",
      "\u001b[1;31mValueError\u001b[0m: cannot reshape array of size 691 into shape (1,100,1)"
     ]
    }
   ],
   "source": [
    "# demonstrate prediction for next 30 days\n",
    "from numpy import array\n",
    "\n",
    "lst_output=[]\n",
    "n_steps=100\n",
    "i=0\n",
    "while(i<30):\n",
    "    \n",
    "    if(len(temp_input)>100):\n",
    "        #print(temp_input)\n",
    "        x_input=np.array(temp_input[1:])\n",
    "        print(\"{} day input {}\".format(i,x_input))\n",
    "        x_input=x_input.reshape(1,-1)\n",
    "        x_input = x_input.reshape((1, n_steps, 1))\n",
    "        #print(x_input)\n",
    "        yhat = model.predict(x_input, verbose=0)\n",
    "        print(\"{} day output {}\".format(i,yhat))\n",
    "        temp_input.extend(yhat[0].tolist())\n",
    "        temp_input=temp_input[1:]\n",
    "        #print(temp_input)\n",
    "        lst_output.extend(yhat.tolist())\n",
    "        i=i+1\n",
    "    else:\n",
    "        x_input = testY.reshape((1, n_steps,1))\n",
    "        yhat = model.predict(x_input, verbose=0)\n",
    "        print(yhat[0])\n",
    "        temp_input.extend(yhat[0].tolist())\n",
    "        print(len(temp_input))\n",
    "        lst_output.extend(yhat.tolist())\n",
    "        i=i+1\n",
    "    \n",
    "\n",
    "print(lst_output)"
   ]
  },
  {
   "cell_type": "code",
   "execution_count": null,
   "metadata": {},
   "outputs": [],
   "source": []
  },
  {
   "cell_type": "code",
   "execution_count": 236,
   "metadata": {},
   "outputs": [
    {
     "ename": "ValueError",
     "evalue": "cannot reshape array of size 100 into shape (1,1,1)",
     "output_type": "error",
     "traceback": [
      "\u001b[1;31m---------------------------------------------------------------------------\u001b[0m",
      "\u001b[1;31mValueError\u001b[0m                                Traceback (most recent call last)",
      "\u001b[1;32m<ipython-input-236-76d7bd529473>\u001b[0m in \u001b[0;36m<module>\u001b[1;34m\u001b[0m\n\u001b[0;32m     22\u001b[0m         \u001b[0mi\u001b[0m\u001b[1;33m=\u001b[0m\u001b[0mi\u001b[0m\u001b[1;33m+\u001b[0m\u001b[1;36m1\u001b[0m\u001b[1;33m\u001b[0m\u001b[1;33m\u001b[0m\u001b[0m\n\u001b[0;32m     23\u001b[0m     \u001b[1;32melse\u001b[0m\u001b[1;33m:\u001b[0m\u001b[1;33m\u001b[0m\u001b[1;33m\u001b[0m\u001b[0m\n\u001b[1;32m---> 24\u001b[1;33m         \u001b[0mx_input\u001b[0m \u001b[1;33m=\u001b[0m \u001b[0mx_input\u001b[0m\u001b[1;33m.\u001b[0m\u001b[0mreshape\u001b[0m\u001b[1;33m(\u001b[0m\u001b[1;33m(\u001b[0m\u001b[1;36m1\u001b[0m\u001b[1;33m,\u001b[0m \u001b[0mn_steps\u001b[0m\u001b[1;33m,\u001b[0m\u001b[1;36m1\u001b[0m\u001b[1;33m)\u001b[0m\u001b[1;33m)\u001b[0m\u001b[1;33m\u001b[0m\u001b[1;33m\u001b[0m\u001b[0m\n\u001b[0m\u001b[0;32m     25\u001b[0m         \u001b[0myhat\u001b[0m \u001b[1;33m=\u001b[0m \u001b[0mmodel\u001b[0m\u001b[1;33m.\u001b[0m\u001b[0mpredict\u001b[0m\u001b[1;33m(\u001b[0m\u001b[0mx_input\u001b[0m\u001b[1;33m,\u001b[0m \u001b[0mverbose\u001b[0m\u001b[1;33m=\u001b[0m\u001b[1;36m0\u001b[0m\u001b[1;33m)\u001b[0m\u001b[1;33m\u001b[0m\u001b[1;33m\u001b[0m\u001b[0m\n\u001b[0;32m     26\u001b[0m         \u001b[0mprint\u001b[0m\u001b[1;33m(\u001b[0m\u001b[0myhat\u001b[0m\u001b[1;33m[\u001b[0m\u001b[1;36m0\u001b[0m\u001b[1;33m]\u001b[0m\u001b[1;33m)\u001b[0m\u001b[1;33m\u001b[0m\u001b[1;33m\u001b[0m\u001b[0m\n",
      "\u001b[1;31mValueError\u001b[0m: cannot reshape array of size 100 into shape (1,1,1)"
     ]
    }
   ],
   "source": [
    "# demonstrate prediction for next 30 days\n",
    "from numpy import array\n",
    "\n",
    "lst_output=[]\n",
    "n_steps=1\n",
    "i=0\n",
    "while(i<30):\n",
    "    \n",
    "    if(len(temp_input)>100):\n",
    "        #print(temp_input)\n",
    "        x_input=np.array(temp_input[1:])\n",
    "        print(\"{} day input {}\".format(i,x_input))\n",
    "        x_input=x_input.reshape(1,-1)\n",
    "        x_input = x_input.reshape((1, n_steps, 1))\n",
    "        #print(x_input)\n",
    "        yhat = model.predict(x_input, verbose=0)\n",
    "        print(\"{} day output {}\".format(i,yhat))\n",
    "        temp_input.extend(yhat[0].tolist())\n",
    "        temp_input=temp_input[1:]\n",
    "        #print(temp_input)\n",
    "        lst_output.extend(yhat.tolist())\n",
    "        i=i+1\n",
    "    else:\n",
    "        x_input = x_input.reshape((1, n_steps,1))\n",
    "        yhat = model.predict(x_input, verbose=0)\n",
    "        print(yhat[0])\n",
    "        temp_input.extend(yhat[0].tolist())\n",
    "        print(len(temp_input))\n",
    "        lst_output.extend(yhat.tolist())\n",
    "        i=i+1\n",
    "    \n",
    "\n",
    "print(lst_output)"
   ]
  },
  {
   "cell_type": "code",
   "execution_count": null,
   "metadata": {},
   "outputs": [],
   "source": [
    "################"
   ]
  },
  {
   "cell_type": "code",
   "execution_count": 239,
   "metadata": {},
   "outputs": [],
   "source": [
    "close=df_pair['Close']"
   ]
  },
  {
   "cell_type": "code",
   "execution_count": 259,
   "metadata": {},
   "outputs": [
    {
     "ename": "ValueError",
     "evalue": "could not broadcast input array from shape (1,2767) into shape (1,1)",
     "output_type": "error",
     "traceback": [
      "\u001b[1;31m---------------------------------------------------------------------------\u001b[0m",
      "\u001b[1;31mValueError\u001b[0m                                Traceback (most recent call last)",
      "\u001b[1;32m<ipython-input-259-5f3f4000059a>\u001b[0m in \u001b[0;36m<module>\u001b[1;34m\u001b[0m\n\u001b[0;32m      5\u001b[0m \u001b[0mtrainPredictPlot\u001b[0m \u001b[1;33m=\u001b[0m \u001b[0mnp\u001b[0m\u001b[1;33m.\u001b[0m\u001b[0mempty_like\u001b[0m\u001b[1;33m(\u001b[0m\u001b[0mX\u001b[0m\u001b[1;33m)\u001b[0m\u001b[1;33m\u001b[0m\u001b[1;33m\u001b[0m\u001b[0m\n\u001b[0;32m      6\u001b[0m \u001b[0mtrainPredictPlot\u001b[0m\u001b[1;33m[\u001b[0m\u001b[1;33m:\u001b[0m\u001b[1;33m,\u001b[0m \u001b[1;33m:\u001b[0m\u001b[1;33m]\u001b[0m \u001b[1;33m=\u001b[0m \u001b[0mnp\u001b[0m\u001b[1;33m.\u001b[0m\u001b[0mnan\u001b[0m\u001b[1;33m\u001b[0m\u001b[1;33m\u001b[0m\u001b[0m\n\u001b[1;32m----> 7\u001b[1;33m \u001b[0mtrainPredictPlot\u001b[0m\u001b[1;33m[\u001b[0m\u001b[0mlook_back\u001b[0m\u001b[1;33m:\u001b[0m\u001b[0mlen\u001b[0m\u001b[1;33m(\u001b[0m\u001b[0mtrainY\u001b[0m\u001b[1;33m)\u001b[0m\u001b[1;33m+\u001b[0m\u001b[0mlook_back\u001b[0m\u001b[1;33m,\u001b[0m \u001b[1;33m:\u001b[0m\u001b[1;33m]\u001b[0m \u001b[1;33m=\u001b[0m \u001b[0mtrainY\u001b[0m\u001b[1;33m\u001b[0m\u001b[1;33m\u001b[0m\u001b[0m\n\u001b[0m\u001b[0;32m      8\u001b[0m \u001b[1;31m# shift test predictions for plotting\u001b[0m\u001b[1;33m\u001b[0m\u001b[1;33m\u001b[0m\u001b[1;33m\u001b[0m\u001b[0m\n\u001b[0;32m      9\u001b[0m \u001b[0mtestPredictPlot\u001b[0m \u001b[1;33m=\u001b[0m \u001b[0mnp\u001b[0m\u001b[1;33m.\u001b[0m\u001b[0mempty_like\u001b[0m\u001b[1;33m(\u001b[0m\u001b[0mX\u001b[0m\u001b[1;33m)\u001b[0m\u001b[1;33m\u001b[0m\u001b[1;33m\u001b[0m\u001b[0m\n",
      "\u001b[1;31mValueError\u001b[0m: could not broadcast input array from shape (1,2767) into shape (1,1)"
     ]
    }
   ],
   "source": [
    "X = scaler.fit_transform(np.array(close).reshape(-1,1))\n",
    "import matplotlib.pyplot as plt\n",
    "\n",
    "look_back=100\n",
    "trainPredictPlot = np.empty_like(X)\n",
    "trainPredictPlot[:, :] = np.nan\n",
    "trainPredictPlot[look_back:len(trainY)+look_back, :] = trainY\n",
    "# shift test predictions for plotting\n",
    "testPredictPlot = np.empty_like(X)\n",
    "testPredictPlot[:, :] = np.nan\n",
    "testPredictPlot[len(trainY)+(look_back*2)+1:len(X)-1, :] = testY\n",
    "# plot baseline and predictions\n",
    "plt.plot(scaler.inverse_transform(X))\n",
    "plt.plot(trainPredictPlot)\n",
    "plt.plot(testPredictPlot)\n",
    "plt.show()"
   ]
  },
  {
   "cell_type": "code",
   "execution_count": 261,
   "metadata": {},
   "outputs": [
    {
     "data": {
      "text/plain": [
       "array([[nan],\n",
       "       [nan],\n",
       "       [nan],\n",
       "       ...,\n",
       "       [nan],\n",
       "       [nan],\n",
       "       [nan]])"
      ]
     },
     "execution_count": 261,
     "metadata": {},
     "output_type": "execute_result"
    }
   ],
   "source": [
    "trainPredictPlot"
   ]
  },
  {
   "cell_type": "code",
   "execution_count": 253,
   "metadata": {},
   "outputs": [],
   "source": [
    "import copy\n",
    "#trainY_copy=copy.deepcopy(trainY)\n",
    "trainY=copy.deepcopy(trainY_copy)"
   ]
  },
  {
   "cell_type": "code",
   "execution_count": 254,
   "metadata": {},
   "outputs": [
    {
     "data": {
      "text/plain": [
       "array([1.05120003, 1.04100001, 1.0395    , ..., 1.32195997, 1.32524002,\n",
       "       1.32218003])"
      ]
     },
     "execution_count": 254,
     "metadata": {},
     "output_type": "execute_result"
    }
   ],
   "source": [
    "#trainY_copy\n",
    "trainY"
   ]
  },
  {
   "cell_type": "code",
   "execution_count": 258,
   "metadata": {},
   "outputs": [
    {
     "data": {
      "text/plain": [
       "array([[1.05120003, 1.04100001, 1.0395    , ..., 1.32195997, 1.32524002,\n",
       "        1.32218003]])"
      ]
     },
     "execution_count": 258,
     "metadata": {},
     "output_type": "execute_result"
    }
   ],
   "source": [
    "trainY=np.array([trainY]) \n",
    "trainY"
   ]
  },
  {
   "cell_type": "code",
   "execution_count": 260,
   "metadata": {},
   "outputs": [
    {
     "data": {
      "text/plain": [
       "(3459, 1)"
      ]
     },
     "execution_count": 260,
     "metadata": {},
     "output_type": "execute_result"
    }
   ],
   "source": [
    "X.shape"
   ]
  },
  {
   "cell_type": "code",
   "execution_count": 246,
   "metadata": {},
   "outputs": [
    {
     "data": {
      "text/plain": [
       "array([[0.20987181],\n",
       "       [0.19005054],\n",
       "       [0.18713564],\n",
       "       ...,\n",
       "       [0.79117759],\n",
       "       [0.78322976],\n",
       "       [0.7771083 ]])"
      ]
     },
     "execution_count": 246,
     "metadata": {},
     "output_type": "execute_result"
    }
   ],
   "source": [
    "X"
   ]
  },
  {
   "cell_type": "code",
   "execution_count": 262,
   "metadata": {},
   "outputs": [
    {
     "data": {
      "text/plain": [
       "(1, 2767)"
      ]
     },
     "execution_count": 262,
     "metadata": {},
     "output_type": "execute_result"
    }
   ],
   "source": [
    "trainY.shape"
   ]
  },
  {
   "cell_type": "code",
   "execution_count": null,
   "metadata": {},
   "outputs": [],
   "source": []
  },
  {
   "cell_type": "code",
   "execution_count": null,
   "metadata": {},
   "outputs": [],
   "source": []
  },
  {
   "cell_type": "code",
   "execution_count": 289,
   "metadata": {
    "scrolled": true
   },
   "outputs": [
    {
     "name": "stdout",
     "output_type": "stream",
     "text": [
      "[[0.10624964]\n",
      " [0.10836716]\n",
      " [0.12201691]\n",
      " ...\n",
      " [0.64167573]\n",
      " [0.63446471]\n",
      " [0.61786765]]\n",
      "(2318, 1)\n",
      "(1142, 1)\n",
      "(2217, 100) (2217,) (1041, 100) (1041,)\n",
      "(2217, 100, 1) (1041, 100, 1)\n",
      "Model: \"sequential_11\"\n",
      "_________________________________________________________________\n",
      " Layer (type)                Output Shape              Param #   \n",
      "=================================================================\n",
      " lstm_30 (LSTM)              (None, 100, 50)           10400     \n",
      "                                                                 \n",
      " dropout_15 (Dropout)        (None, 100, 50)           0         \n",
      "                                                                 \n",
      " lstm_31 (LSTM)              (None, 100, 50)           20200     \n",
      "                                                                 \n",
      " dropout_16 (Dropout)        (None, 100, 50)           0         \n",
      "                                                                 \n",
      " lstm_32 (LSTM)              (None, 50)                20200     \n",
      "                                                                 \n",
      " dense_11 (Dense)            (None, 1)                 51        \n",
      "                                                                 \n",
      "=================================================================\n",
      "Total params: 50,851\n",
      "Trainable params: 50,851\n",
      "Non-trainable params: 0\n",
      "_________________________________________________________________\n",
      "Epoch 1/100\n",
      "35/35 [==============================] - 21s 356ms/step - loss: 0.0133 - val_loss: 0.0039\n",
      "Epoch 2/100\n",
      "35/35 [==============================] - 11s 302ms/step - loss: 0.0014 - val_loss: 0.0019\n",
      "Epoch 3/100\n",
      "35/35 [==============================] - 10s 301ms/step - loss: 0.0012 - val_loss: 0.0016\n",
      "Epoch 4/100\n",
      "35/35 [==============================] - 10s 297ms/step - loss: 0.0011 - val_loss: 0.0016\n",
      "Epoch 5/100\n",
      "35/35 [==============================] - 10s 297ms/step - loss: 0.0010 - val_loss: 0.0016\n",
      "Epoch 6/100\n",
      "35/35 [==============================] - 10s 294ms/step - loss: 0.0010 - val_loss: 0.0015\n",
      "Epoch 7/100\n",
      "35/35 [==============================] - 11s 310ms/step - loss: 9.9889e-04 - val_loss: 0.0015\n",
      "Epoch 8/100\n",
      "35/35 [==============================] - 10s 299ms/step - loss: 9.8468e-04 - val_loss: 0.0014\n",
      "Epoch 9/100\n",
      "35/35 [==============================] - 10s 294ms/step - loss: 9.5107e-04 - val_loss: 0.0013\n",
      "Epoch 10/100\n",
      "35/35 [==============================] - 10s 298ms/step - loss: 8.8252e-04 - val_loss: 0.0014\n",
      "Epoch 11/100\n",
      "35/35 [==============================] - 10s 294ms/step - loss: 8.7471e-04 - val_loss: 0.0013\n",
      "Epoch 12/100\n",
      "35/35 [==============================] - 11s 316ms/step - loss: 8.8190e-04 - val_loss: 0.0012\n",
      "Epoch 13/100\n",
      "35/35 [==============================] - 10s 297ms/step - loss: 8.4202e-04 - val_loss: 0.0012\n",
      "Epoch 14/100\n",
      "35/35 [==============================] - 10s 293ms/step - loss: 7.4786e-04 - val_loss: 0.0011\n",
      "Epoch 15/100\n",
      "35/35 [==============================] - 10s 294ms/step - loss: 7.8310e-04 - val_loss: 0.0011\n",
      "Epoch 16/100\n",
      "35/35 [==============================] - 10s 291ms/step - loss: 7.9342e-04 - val_loss: 0.0013\n",
      "Epoch 17/100\n",
      "35/35 [==============================] - 10s 294ms/step - loss: 7.2867e-04 - val_loss: 0.0010\n",
      "Epoch 18/100\n",
      "35/35 [==============================] - 10s 293ms/step - loss: 7.0924e-04 - val_loss: 9.7733e-04\n",
      "Epoch 19/100\n",
      "35/35 [==============================] - 10s 298ms/step - loss: 6.6485e-04 - val_loss: 0.0010\n",
      "Epoch 20/100\n",
      "35/35 [==============================] - 10s 296ms/step - loss: 6.6877e-04 - val_loss: 9.7035e-04\n",
      "Epoch 21/100\n",
      "35/35 [==============================] - 10s 298ms/step - loss: 6.6506e-04 - val_loss: 0.0010\n",
      "Epoch 22/100\n",
      "35/35 [==============================] - 10s 294ms/step - loss: 6.2201e-04 - val_loss: 0.0010\n",
      "Epoch 23/100\n",
      "35/35 [==============================] - 10s 292ms/step - loss: 6.3423e-04 - val_loss: 0.0011\n",
      "Epoch 24/100\n",
      "35/35 [==============================] - 10s 292ms/step - loss: 6.5025e-04 - val_loss: 9.6350e-04\n",
      "Epoch 25/100\n",
      "35/35 [==============================] - 11s 301ms/step - loss: 6.0310e-04 - val_loss: 9.5369e-04\n",
      "Epoch 26/100\n",
      "35/35 [==============================] - 10s 293ms/step - loss: 5.5389e-04 - val_loss: 9.1604e-04\n",
      "Epoch 27/100\n",
      "35/35 [==============================] - 10s 297ms/step - loss: 5.8430e-04 - val_loss: 0.0011\n",
      "Epoch 28/100\n",
      "35/35 [==============================] - 10s 294ms/step - loss: 5.7278e-04 - val_loss: 0.0011\n",
      "Epoch 29/100\n",
      "35/35 [==============================] - 10s 294ms/step - loss: 5.5001e-04 - val_loss: 9.7105e-04\n",
      "Epoch 30/100\n",
      "35/35 [==============================] - 10s 293ms/step - loss: 5.0863e-04 - val_loss: 8.1413e-04\n",
      "Epoch 31/100\n",
      "35/35 [==============================] - 10s 296ms/step - loss: 5.1247e-04 - val_loss: 0.0012\n",
      "Epoch 32/100\n",
      "35/35 [==============================] - 10s 297ms/step - loss: 5.1764e-04 - val_loss: 7.8630e-04\n",
      "Epoch 33/100\n",
      "35/35 [==============================] - 10s 297ms/step - loss: 5.1570e-04 - val_loss: 7.8169e-04\n",
      "Epoch 34/100\n",
      "35/35 [==============================] - 10s 295ms/step - loss: 4.8667e-04 - val_loss: 8.1753e-04\n",
      "Epoch 35/100\n",
      "35/35 [==============================] - 10s 299ms/step - loss: 4.8753e-04 - val_loss: 9.1882e-04\n",
      "Epoch 36/100\n",
      "35/35 [==============================] - 10s 300ms/step - loss: 4.7904e-04 - val_loss: 7.7880e-04\n",
      "Epoch 37/100\n",
      "35/35 [==============================] - 11s 317ms/step - loss: 4.7840e-04 - val_loss: 7.4978e-04\n",
      "Epoch 38/100\n",
      "35/35 [==============================] - 10s 295ms/step - loss: 4.7081e-04 - val_loss: 7.6385e-04\n",
      "Epoch 39/100\n",
      "35/35 [==============================] - 10s 295ms/step - loss: 4.6641e-04 - val_loss: 7.0243e-04\n",
      "Epoch 40/100\n",
      "35/35 [==============================] - 10s 296ms/step - loss: 4.2490e-04 - val_loss: 8.1463e-04\n",
      "Epoch 41/100\n",
      "35/35 [==============================] - 10s 295ms/step - loss: 4.2446e-04 - val_loss: 7.6568e-04\n",
      "Epoch 42/100\n",
      "35/35 [==============================] - 10s 294ms/step - loss: 4.2580e-04 - val_loss: 8.4724e-04\n",
      "Epoch 43/100\n",
      "35/35 [==============================] - 10s 293ms/step - loss: 4.1450e-04 - val_loss: 0.0012\n",
      "Epoch 44/100\n",
      "35/35 [==============================] - 10s 291ms/step - loss: 4.1781e-04 - val_loss: 6.3764e-04\n",
      "Epoch 45/100\n",
      "35/35 [==============================] - 10s 300ms/step - loss: 4.0099e-04 - val_loss: 7.8961e-04\n",
      "Epoch 46/100\n",
      "35/35 [==============================] - 10s 294ms/step - loss: 4.1065e-04 - val_loss: 6.2107e-04\n",
      "Epoch 47/100\n",
      "35/35 [==============================] - 10s 294ms/step - loss: 4.3799e-04 - val_loss: 6.3791e-04\n",
      "Epoch 48/100\n",
      "35/35 [==============================] - 10s 295ms/step - loss: 3.6946e-04 - val_loss: 6.0909e-04\n",
      "Epoch 49/100\n",
      "35/35 [==============================] - 10s 295ms/step - loss: 3.9833e-04 - val_loss: 6.5901e-04\n",
      "Epoch 50/100\n",
      "35/35 [==============================] - 11s 321ms/step - loss: 3.8026e-04 - val_loss: 6.1132e-04\n",
      "Epoch 51/100\n",
      "35/35 [==============================] - 11s 307ms/step - loss: 4.3906e-04 - val_loss: 5.6438e-04\n",
      "Epoch 52/100\n",
      "35/35 [==============================] - 10s 297ms/step - loss: 4.5265e-04 - val_loss: 6.8646e-04\n",
      "Epoch 53/100\n",
      "35/35 [==============================] - 11s 322ms/step - loss: 3.8220e-04 - val_loss: 6.0014e-04\n",
      "Epoch 54/100\n",
      "35/35 [==============================] - 10s 300ms/step - loss: 3.7520e-04 - val_loss: 5.7287e-04\n",
      "Epoch 55/100\n",
      "35/35 [==============================] - 12s 331ms/step - loss: 3.6701e-04 - val_loss: 7.1188e-04\n",
      "Epoch 56/100\n",
      "35/35 [==============================] - 11s 305ms/step - loss: 3.7003e-04 - val_loss: 5.4042e-04\n",
      "Epoch 57/100\n",
      "35/35 [==============================] - 10s 300ms/step - loss: 3.5913e-04 - val_loss: 5.5431e-04\n",
      "Epoch 58/100\n",
      "35/35 [==============================] - 10s 298ms/step - loss: 3.4521e-04 - val_loss: 5.5730e-04\n",
      "Epoch 59/100\n",
      "35/35 [==============================] - 10s 294ms/step - loss: 3.2975e-04 - val_loss: 6.8946e-04\n",
      "Epoch 60/100\n",
      "35/35 [==============================] - 10s 294ms/step - loss: 3.4009e-04 - val_loss: 4.8190e-04\n",
      "Epoch 61/100\n",
      "35/35 [==============================] - 10s 300ms/step - loss: 3.6924e-04 - val_loss: 7.8031e-04\n",
      "Epoch 62/100\n",
      "35/35 [==============================] - 12s 341ms/step - loss: 3.5868e-04 - val_loss: 4.7796e-04\n",
      "Epoch 63/100\n"
     ]
    },
    {
     "name": "stdout",
     "output_type": "stream",
     "text": [
      "35/35 [==============================] - 11s 320ms/step - loss: 3.2607e-04 - val_loss: 5.8251e-04\n",
      "Epoch 64/100\n",
      "35/35 [==============================] - 11s 314ms/step - loss: 3.2517e-04 - val_loss: 5.1130e-04\n",
      "Epoch 65/100\n",
      "35/35 [==============================] - 11s 320ms/step - loss: 3.2172e-04 - val_loss: 5.8804e-04\n",
      "Epoch 66/100\n",
      "35/35 [==============================] - 10s 299ms/step - loss: 3.3232e-04 - val_loss: 4.7266e-04\n",
      "Epoch 67/100\n",
      "35/35 [==============================] - 10s 294ms/step - loss: 3.2091e-04 - val_loss: 4.7977e-04\n",
      "Epoch 68/100\n",
      "35/35 [==============================] - 10s 296ms/step - loss: 3.1015e-04 - val_loss: 4.4834e-04\n",
      "Epoch 69/100\n",
      "35/35 [==============================] - 10s 297ms/step - loss: 2.9882e-04 - val_loss: 4.2109e-04\n",
      "Epoch 70/100\n",
      "35/35 [==============================] - 10s 292ms/step - loss: 3.0683e-04 - val_loss: 4.6819e-04\n",
      "Epoch 71/100\n",
      "35/35 [==============================] - 10s 292ms/step - loss: 3.0214e-04 - val_loss: 4.0025e-04\n",
      "Epoch 72/100\n",
      "35/35 [==============================] - 10s 295ms/step - loss: 2.8521e-04 - val_loss: 4.9584e-04\n",
      "Epoch 73/100\n",
      "35/35 [==============================] - 10s 292ms/step - loss: 3.3219e-04 - val_loss: 4.4995e-04\n",
      "Epoch 74/100\n",
      "35/35 [==============================] - 10s 295ms/step - loss: 2.8933e-04 - val_loss: 4.3299e-04\n",
      "Epoch 75/100\n",
      "35/35 [==============================] - 11s 319ms/step - loss: 2.9673e-04 - val_loss: 4.2290e-04\n",
      "Epoch 76/100\n",
      "35/35 [==============================] - 11s 307ms/step - loss: 3.0205e-04 - val_loss: 5.0070e-04\n",
      "Epoch 77/100\n",
      "35/35 [==============================] - 13s 365ms/step - loss: 3.1372e-04 - val_loss: 3.9011e-04\n",
      "Epoch 78/100\n",
      "35/35 [==============================] - 13s 369ms/step - loss: 3.0794e-04 - val_loss: 4.9983e-04\n",
      "Epoch 79/100\n",
      "35/35 [==============================] - 11s 313ms/step - loss: 2.8836e-04 - val_loss: 9.9001e-04\n",
      "Epoch 80/100\n",
      "35/35 [==============================] - 10s 290ms/step - loss: 3.3118e-04 - val_loss: 5.3080e-04\n",
      "Epoch 81/100\n",
      "35/35 [==============================] - 11s 326ms/step - loss: 2.6228e-04 - val_loss: 4.0693e-04\n",
      "Epoch 82/100\n",
      "35/35 [==============================] - 10s 298ms/step - loss: 2.8288e-04 - val_loss: 3.9055e-04\n",
      "Epoch 83/100\n",
      "35/35 [==============================] - 10s 297ms/step - loss: 3.5660e-04 - val_loss: 4.3156e-04\n",
      "Epoch 84/100\n",
      "35/35 [==============================] - 10s 295ms/step - loss: 2.8815e-04 - val_loss: 4.8946e-04\n",
      "Epoch 85/100\n",
      "35/35 [==============================] - 11s 308ms/step - loss: 3.3265e-04 - val_loss: 5.0778e-04\n",
      "Epoch 86/100\n",
      "35/35 [==============================] - 10s 296ms/step - loss: 2.7983e-04 - val_loss: 8.4673e-04\n",
      "Epoch 87/100\n",
      "35/35 [==============================] - 11s 303ms/step - loss: 2.9733e-04 - val_loss: 4.0803e-04\n",
      "Epoch 88/100\n",
      "35/35 [==============================] - 10s 295ms/step - loss: 2.8331e-04 - val_loss: 3.8469e-04\n",
      "Epoch 89/100\n",
      "35/35 [==============================] - 11s 315ms/step - loss: 2.4681e-04 - val_loss: 3.2387e-04\n",
      "Epoch 90/100\n",
      "35/35 [==============================] - 11s 308ms/step - loss: 2.5988e-04 - val_loss: 3.2673e-04\n",
      "Epoch 91/100\n",
      "35/35 [==============================] - 10s 295ms/step - loss: 2.9921e-04 - val_loss: 3.6908e-04\n",
      "Epoch 92/100\n",
      "35/35 [==============================] - 10s 297ms/step - loss: 2.4604e-04 - val_loss: 4.0194e-04\n",
      "Epoch 93/100\n",
      "35/35 [==============================] - 10s 299ms/step - loss: 2.3693e-04 - val_loss: 2.9259e-04\n",
      "Epoch 94/100\n",
      "35/35 [==============================] - 10s 301ms/step - loss: 2.8480e-04 - val_loss: 4.1557e-04\n",
      "Epoch 95/100\n",
      "35/35 [==============================] - 10s 297ms/step - loss: 3.3567e-04 - val_loss: 3.0299e-04\n",
      "Epoch 96/100\n",
      "35/35 [==============================] - 10s 300ms/step - loss: 2.5152e-04 - val_loss: 3.5797e-04\n",
      "Epoch 97/100\n",
      "35/35 [==============================] - 10s 297ms/step - loss: 2.4770e-04 - val_loss: 3.2542e-04\n",
      "Epoch 98/100\n",
      "35/35 [==============================] - 10s 300ms/step - loss: 2.4278e-04 - val_loss: 3.5004e-04\n",
      "Epoch 99/100\n",
      "35/35 [==============================] - 10s 297ms/step - loss: 2.3853e-04 - val_loss: 2.8360e-04\n",
      "Epoch 100/100\n",
      "35/35 [==============================] - 11s 307ms/step - loss: 2.4163e-04 - val_loss: 2.9559e-04\n",
      "(2217, 1) (1041, 1)\n",
      "[[0.76442677]\n",
      " [0.7635656 ]\n",
      " [0.76475585]\n",
      " ...\n",
      " [0.8024499 ]\n",
      " [0.80359393]\n",
      " [0.8055087 ]]\n"
     ]
    }
   ],
   "source": [
    "close = df_pair[\"Close\"]\n",
    "close.shape\n",
    "close\n",
    "close = close.dropna()\n",
    "close.shape\n",
    "from sklearn.preprocessing import MinMaxScaler\n",
    "scaler = MinMaxScaler(feature_range=(0,1))\n",
    "tmp = scaler.fit(np.array(close).reshape(-1,1))\n",
    "new_df = scaler.transform(np.array(close).reshape(-1,1))\n",
    "\n",
    " \n",
    "print(new_df)\n",
    "training_size=int(len(new_df)*0.67)\n",
    "test_size=len(new_df)-training_size\n",
    "train_data,test_data=new_df[0:training_size,:],new_df[training_size:len(new_df),:1]\n",
    "\n",
    "print(train_data.shape)\n",
    "print(test_data.shape)\n",
    "def create_dataset(dataset, time_step=1):\n",
    "\tdataX, dataY = [], []\n",
    "\tfor i in range(len(dataset)-time_step-1):\n",
    "\t\ta = dataset[i:(i+time_step), 0]   ###i=0, 0,1,2,3-----99   100 \n",
    "\t\tdataX.append(a)\n",
    "\t\tdataY.append(dataset[i + time_step, 0])\n",
    "\treturn np.array(dataX), np.array(dataY)\n",
    "time_step=100\n",
    "X_train, Y_train = create_dataset(train_data, time_step)\n",
    "X_test, Y_test = create_dataset(test_data, time_step)\n",
    "print(X_train.shape, Y_train.shape, X_test.shape, Y_test.shape)\n",
    "#print(X_train, Y_train)\n",
    "X_train =X_train.reshape(X_train.shape[0],X_train.shape[1] , 1)\n",
    "X_test = X_test.reshape(X_test.shape[0],X_test.shape[1] , 1)\n",
    "print(X_train.shape, X_test.shape)\n",
    "#print(X_train, Y_train)\n",
    "from tensorflow.keras.models import Sequential\n",
    "from tensorflow.keras.layers import Dense, Dropout\n",
    "from tensorflow.keras.layers import LSTM\n",
    "\n",
    "model=Sequential()\n",
    "model.add(LSTM(50,return_sequences=True,input_shape=(X_train.shape[1],X_train.shape[2])))\n",
    "model.add(Dropout(0.2))\n",
    "model.add(LSTM(50,return_sequences=True))\n",
    "model.add(Dropout(0.2))\n",
    "model.add(LSTM(50))\n",
    "model.add(Dense(1))\n",
    "model.compile(loss='mean_squared_error',optimizer='adam')\n",
    "\n",
    "model.summary()\n",
    "model.fit(X_train,Y_train,validation_data=(X_test, Y_test),epochs=100,batch_size=64,callbacks=[earlyStop], verbose=1)\n",
    "model.save(currency_pair+\"_model.h5\")\n",
    "train_predict=model.predict(X_train)\n",
    "test_predict=model.predict(X_test)\n",
    "print(train_predict.shape, test_predict.shape)\n",
    "train_predict=scaler.inverse_transform(train_predict)\n",
    "test_predict=scaler.inverse_transform(test_predict)\n",
    "print(test_predict)\n",
    "X = scaler.fit_transform(np.array(close).reshape(-1,1))\n",
    "\n",
    "\n"
   ]
  },
  {
   "cell_type": "code",
   "execution_count": 285,
   "metadata": {},
   "outputs": [
    {
     "data": {
      "image/png": "[encoded data removed]",
      "text/plain": [
       "<Figure size 432x288 with 1 Axes>"
      ]
     },
     "metadata": {
      "needs_background": "light"
     },
     "output_type": "display_data"
    }
   ],
   "source": [
    "import matplotlib.pyplot as plt\n",
    "\n",
    "look_back=100\n",
    "trainPredictPlot = np.empty_like(X)\n",
    "trainPredictPlot[:, :] = np.nan\n",
    "trainPredictPlot[look_back:len(train_predict)+look_back, :] = train_predict\n",
    "# shift test predictions for plotting\n",
    "testPredictPlot = np.empty_like(X)\n",
    "testPredictPlot[:, :] = np.nan\n",
    "testPredictPlot[len(train_predict)+(look_back*2)+1:len(X)-1, :] = test_predict\n",
    "# plot baseline and predictions\n",
    "plt.plot(scaler.inverse_transform(X))\n",
    "plt.plot(trainPredictPlot)\n",
    "plt.plot(testPredictPlot)\n",
    "plt.show()"
   ]
  },
  {
   "cell_type": "code",
   "execution_count": 265,
   "metadata": {},
   "outputs": [],
   "source": [
    "#model.save(currency_pair+\"_model.h5\")"
   ]
  },
  {
   "cell_type": "code",
   "execution_count": null,
   "metadata": {},
   "outputs": [],
   "source": []
  }
 ],
 "metadata": {
  "kernelspec": {
   "display_name": "Python 3",
   "language": "python",
   "name": "python3"
  },
  "language_info": {
   "codemirror_mode": {
    "name": "ipython",
    "version": 3
   },
   "file_extension": ".py",
   "mimetype": "text/x-python",
   "name": "python",
   "nbconvert_exporter": "python",
   "pygments_lexer": "ipython3",
   "version": "3.8.5"
  }
 },
 "nbformat": 4,
 "nbformat_minor": 4
}
